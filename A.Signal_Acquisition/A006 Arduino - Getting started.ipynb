{
 "cells": [
  {
   "cell_type": "markdown",
   "metadata": {},
   "source": [
    " # <div  style=\"color:#303030;font-family:'arial blACK', sans-serif,monospace; text-align: center; padding: 50px 0; vertical-align:middle;\" > <img src=\"https://www.nicepng.com/png/full/204-2043038_white-lightbulb-icon-light-bulb-icon-white.png\" style=\" background:#00a0e4;border-radius:10px;width:150px;text-align:left; margin-left:10%\"  /> <span style=\"position:relative; bottom:70px; margin-left:5%\">    Arduino: Getting started </span> </div>"
   ]
  },
  {
   "cell_type": "markdown",
   "metadata": {},
   "source": [
    "## <span style=\"color:#00a0e4;\"> Keywords: </span>"
   ]
  },
  {
   "cell_type": "markdown",
   "metadata": {},
   "source": [
    "```Arduino```, ```Embedded systems```"
   ]
  },
  {
   "cell_type": "markdown",
   "metadata": {},
   "source": [
    "# I. Introduction\n",
    "<br>\n",
    "<div class=\"title\"style=\"width:100%; background:#00a0e4;font-family:'arial black',monospace; text-align: center; padding: 7px 0; border-radius: 5px 50px;margin-top:-15px\" >  </div>"
   ]
  },
  {
   "cell_type": "markdown",
   "metadata": {},
   "source": [
    "## <div style=\"color:#00a0e4\"> 1. Background </div>"
   ]
  },
  {
   "cell_type": "markdown",
   "metadata": {},
   "source": [
    "The goal of this session is to introduce the basics of the Arduino embedded system.\n",
    "\n",
    "<img src=\"https://i.ibb.co/w40JMSy/Screenshot-2020-10-13-at-14-02-26.png\" width=\"500\" border=\"0\">"
   ]
  },
  {
   "cell_type": "markdown",
   "metadata": {},
   "source": [
    "## <div style=\"color:#00a0e4\"> 2. Objectives</div>\n",
    "* Following basic examples provided by the Arduino embedded system\n",
    "* Comparing the experimental results Vs theorethical estimates\n",
    "* Exploring the impact of alternative formulations and script modifications \n"
   ]
  },
  {
   "cell_type": "markdown",
   "metadata": {},
   "source": [
    "## <div style=\"color:#00a0e4\"> 3. Materials </div>\n",
    "* Arduino"
   ]
  },
  {
   "cell_type": "markdown",
   "metadata": {},
   "source": [
    "# II. Experimental\n",
    "<br>\n",
    "<div style=\"width:100%; background:#00a0e4;color:#282828;font-family:'arial black'; text-align: center; padding: 7px 0; border-radius: 5px 50px; margin-top:-15px\" > </div>"
   ]
  },
  {
   "cell_type": "markdown",
   "metadata": {},
   "source": [
    "Meet the Arduino concept\n",
    "- μController: ATmega 2560 \n",
    "- Digital I/O pins: 54 \n",
    "- Analog Input pins: 16 \n",
    "- Analog Input resolution: 10 bits \n",
    "- Flash Memory: 256 kB \n",
    "- SRAM: 8 kB \n",
    "- EEPROM: 4 kB \n",
    "- Clock: 16 MHz \n"
   ]
  },
  {
   "cell_type": "markdown",
   "metadata": {},
   "source": [
    "<div style=\"background:#62d321;font-family:'arial', monospace; text-align: center; padding: 10px 0; border-radius:10px; width:70%; margin:auto \" >\n",
    "  <span style=\"font-size:20px;position:relative;color:white; \"> Explore </span> <br>\n",
    "  <div style=\"background:#c5e8b0;font-size:12px\">\n",
    "    For more info, consult the Arduino's oficial starting guide: <br>\n",
    "    <a> www.arduino.cc/guide  </a>    \n",
    "</div>"
   ]
  },
  {
   "cell_type": "markdown",
   "metadata": {},
   "source": [
    "### <div style=\"color:#00a0e4\">  1. Arduino Examples </div>"
   ]
  },
  {
   "cell_type": "markdown",
   "metadata": {},
   "source": [
    "Test the Arduino Board with the following examples from the examples at folder:\n",
    "1. 01.BASICS/BLINK\n",
    "2. 01.BASICS/DigitalReadSerial\n",
    "3. 01.BASICS/ReadAnalogVoltage\n",
    "4. 03.Analog/AnalogInput"
   ]
  },
  {
   "cell_type": "markdown",
   "metadata": {},
   "source": [
    "### <div style=\"color:#00a0e4\">  2. Exercises </div>"
   ]
  },
  {
   "cell_type": "markdown",
   "metadata": {},
   "source": [
    "1. Write an alternative formulations of the 01.BASICS/BLINK sketch that uses a single call to the digitalWrite and delay functions.\n",
    "<br><br>\n",
    "2. Explain what are the drawbacks of using the delay function and write an alternative formulations of the 01.BASICS/BLINK sketch that produces the same result without using the delay function.\n",
    "<br><br>\n",
    "3. How many bits are actually pushed to the serial port in each iteration of the main\n",
    "loop in the 01.BASICS/DigitalReadSerial sketch? Why?\n",
    "<br><br>\n",
    "4. Determine the average time that the Serial.println instruction takes to\n",
    "execute 01.BASICS/ReadAnalogVoltage. Discuss how this result compares with\n",
    "the theoretical estimate (considering the 9600 bits per second baud rate).\n",
    "<br><br>\n",
    "5. Adapt the 03.Analog/AnalogInput sketch to stream the analog values through\n",
    "the serial port and show the Serial Plotter graph for a variation of the\n",
    "potentiometer. Modify the script also in such way that data streaming start and\n",
    "stops through a command (e.g. “S”) received through the serial port."
   ]
  },
  {
   "cell_type": "markdown",
   "metadata": {},
   "source": [
    "<img src=\"https://i.ibb.co/6DksQ4Q/Screenshot-2020-10-13-at-14-43-01.png\" alt=\"Screenshot-2020-10-13-at-14-43-01\" border=\"0\" width=\"400\">"
   ]
  },
  {
   "cell_type": "markdown",
   "metadata": {},
   "source": [
    "# III. Explore\n",
    "<br>\n",
    "<div class='h1'  style=\"width:100%; background:#00a0e4;color:#282828;font-family:'arial black'; text-align: center; padding: 7px 0; border-radius: 5px 50px;margin-top:-15px\" > </div>"
   ]
  },
  {
   "cell_type": "markdown",
   "metadata": {},
   "source": [
    "### <div style=\"color:#00a0e4\">  1. References </div>\n",
    "\n",
    "1. http://arduino.cc/en/\n",
    "2. http://arduino.cc/en/Guide/Environment (IDE)\n",
    "3. http://arduino.cc/en/Tutorial/HomePage\n",
    "4. https://www.tinkercad.com/circuits\n",
    "5. https://www.sites.google.com/site/unoardusim/services\n",
    "6. MATLAB® Arduino®\n",
    "\n",
    "7. http://www.mathworks.com/academia/arduino-software/arduino-\n",
    "matlab.html\n",
    "\n",
    "8. http://www.mathworks.com/matlabcentral/fileexchange/27843"
   ]
  },
  {
   "cell_type": "markdown",
   "metadata": {},
   "source": [
    "<div style=\"height:100px; background:white;border-radius:10px;text-align:center\"> \n",
    "\n",
    "<a> <img src=\"https://www.di.ubi.pt/~agomes/index_files/LogoIT.png\" alt=\"it\" style=\" bottom: 0; width:250px;\n",
    "    display: inline;\n",
    "    left: 250px;\n",
    "    position: absolute;\"/> </a>\n",
    "<img src=\"https://cqe.tecnico.ulisboa.pt/files/files/logos/IST_A_RGB_POS.png\"\n",
    "         alt=\"alternate text\" \n",
    "         style=\"position: relative;   width:250px; float: left;\n",
    "    position: absolute;\n",
    "    display: inline;\n",
    "    bottom: 0;\n",
    "    right: 100;\"/>\n",
    "</div> "
   ]
  },
  {
   "cell_type": "markdown",
   "metadata": {},
   "source": [
    "<div style=\"width: 100%; \">\n",
    "<div style=\"background:#00a0e4;color:white;font-family:'arial', monospace; text-align: center; padding: 50px 0; border-radius:10px; height:10px; width:100%; float:left \" >\n",
    "<span style=\"font-size:12px;position:relative; top:-25px\">  Please provide us your feedback <span style=\"font-size:14px;position:relative;COLOR:WHITE\"> <a href=\"https://forms.gle/C8TdLQUAS9r8BNJM8\">here</a>.</span></span> \n",
    "<br>\n",
    "<span style=\"font-size:17px;position:relative; top:-20px\">  Suggestions are welcome! </span> \n",
    "</div>"
   ]
  },
  {
   "cell_type": "markdown",
   "metadata": {},
   "source": [
    "```Contributors: Prof. João Miguel Sanches; Prof. Hugo Plácido da Silva; Joana Pinto ```"
   ]
  }
 ],
 "metadata": {
  "kernelspec": {
   "display_name": "Python 3",
   "language": "python",
   "name": "python3"
  },
  "language_info": {
   "codemirror_mode": {
    "name": "ipython",
    "version": 3
   },
   "file_extension": ".py",
   "mimetype": "text/x-python",
   "name": "python",
   "nbconvert_exporter": "python",
   "pygments_lexer": "ipython3",
   "version": "3.7.6"
  }
 },
 "nbformat": 4,
 "nbformat_minor": 4
}
