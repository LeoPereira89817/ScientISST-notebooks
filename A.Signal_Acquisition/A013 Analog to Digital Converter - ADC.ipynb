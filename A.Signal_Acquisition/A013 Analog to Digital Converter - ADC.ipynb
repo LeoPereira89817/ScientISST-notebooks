{
 "cells": [
  {
   "cell_type": "markdown",
   "metadata": {},
   "source": [
    " # <div  style=\"color:#303030;font-family:'arial blACK', sans-serif,monospace; text-align: center; padding: 50px 0; vertical-align:middle;\" > <img src=\"https://github.com/PIA-Group/ScientIST-notebooks/blob/master/_Resources/Images/Lightbulb.png?raw=true\" style=\" background:#00a0e4;border-radius:10px;width:150px;text-align:left; margin-left:10%\"  /> <span style=\"position:relative; bottom:70px; margin-left:5%\">    Analog to Digital Converter - ADC </span> </div>"
   ]
  },
  {
   "cell_type": "markdown",
   "metadata": {},
   "source": [
    "## <span style=\"color:#00a0e4;\"> Keywords: </span>"
   ]
  },
  {
   "cell_type": "markdown",
   "metadata": {},
   "source": [
    "``` Analog to Digital Converter (DAC)```, ```Digital Signal Processing (DSP)```, ```Seeeduino```"
   ]
  },
  {
   "cell_type": "markdown",
   "metadata": {},
   "source": [
    "# I. Introduction\n",
    "<br>\n",
    "<div class=\"title\"style=\"width:100%; background:#00a0e4;font-family:'arial black',monospace; text-align: center; padding: 7px 0; border-radius: 5px 50px;margin-top:-15px\" >  </div>"
   ]
  },
  {
   "cell_type": "markdown",
   "metadata": {},
   "source": [
    "## <div style=\"color:#00a0e4\"> 1. Background </div>"
   ]
  },
  {
   "cell_type": "markdown",
   "metadata": {},
   "source": [
    "Any physical quantity that varies with time, space or any independent variable, can be defined as a signal. As they exist in the world, signals have a representation in any infinitely small portion of time, hence being designated as continuous. \n",
    "\n",
    "The process of reducing a continuous signal to a discrete signal is defined as sampling, and has the goal of retrieving a digitally manageable numerical representation of the underlying process. \n",
    "\n",
    "This session aims at further understanding this fundamental process.\n"
   ]
  },
  {
   "cell_type": "markdown",
   "metadata": {},
   "source": [
    "## <div style=\"color:#00a0e4\"> 2. Objectives</div>\n",
    "* Understanding the process of converting a continuous signal into a digitally manageable numerical representation\n"
   ]
  },
  {
   "cell_type": "markdown",
   "metadata": {},
   "source": [
    "## <div style=\"color:#00a0e4\"> 3. Materials (optional) </div>\n",
    "* Breadboard\n",
    "* 2 Resistances (10kOhm)\n",
    "* Seeeduino XIAO\n",
    "* (software) Arduino IDE\n",
    "* TMP36 temperature (TMP) sensor\n",
    "* Electrocardiography (ECG) sensor"
   ]
  },
  {
   "cell_type": "markdown",
   "metadata": {},
   "source": [
    "# II. Experimental\n",
    "<br>\n",
    "<div style=\"width:100%; background:#00a0e4;color:#282828;font-family:'arial black'; text-align: center; padding: 7px 0; border-radius: 5px 50px; margin-top:-15px\" > </div>"
   ]
  },
  {
   "cell_type": "markdown",
   "metadata": {},
   "source": [
    "### <div style=\"color:#00a0e4\">  1. Exercises </div>"
   ]
  },
  {
   "cell_type": "markdown",
   "metadata": {},
   "source": [
    "Consider the Resistive Voltage Divider represented in the following Figure. Assemble the circuit on a breadboard, powering it from your Seeeduino, and connect the analog output of the circuit to an analog input of your choice on the Seeeduino. \n",
    "\n",
    "Devise a firmware to sample the analog inputs at a configurable sampling rate and stream them, together with the elapsed time since the board began running the program, through the serial port. A formatted sequence of comma-separated values (CSV) should be used (e.g. <TIME>,< A>); make sure that each sequence ends with a line feed character. Data streaming should be started and stopped on demand, by a command sent to the firmware through the serial port. \n",
    "\n",
    "Confirm the overall operation of your setup using the Arduino IDE Serial Monitor.\n",
    "\n",
    "<img src=\"https://github.com/PIA-Group/ScientIST-notebooks/blob/master/_Resources/Images/A.Signal_Acquisition_IMG/a013/Resistive_Divider.png?raw=true\" width=\"400\" border=\"0\">\n",
    "\n",
    "1) Considering the operating voltage of your Seeeduino and the resolution of the Analog-to-Digital Converter (ADC), determine the expected range of quantization levels produced by the ADC, as well as the level assigned to the analog output of the voltage divider. Using the firmware that you have devised, analyze the output of the experimental circuit; describe and comment your experimental findings in light of your theoretical calculations.\n",
    "\n",
    "<br>\n",
    "\n",
    "\n",
    "2) Configure the sampling rate on your firmware to 1Hz and the serial port baud rate to 9600bps, start the data acquisition and stop it after a couple of seconds. Derive the sampling period from the experimental data and comment the results using statistical metrics to support your discussion (to facilitate the analysis, you can select all the content of the Arduino IDE Serial Monitor, copy it and paste the copied data to a spreadsheet software of your choice; if the data is not automatically split into columns save the data as a plaintext CSV file and load it). \n",
    "\n",
    "    2.1) Repeat the experiment for sampling rates of 10Hz, 100Hz, and 1000Hz.\n",
    "<br>\n",
    "\n",
    "3) With the sampling rate on your firmware set to 100Hz and the serial port baud rate to 300bps, start the data acquisition and stop it after a couple of seconds. Derive the sampling period from the experimental data, and comment the results using statistic metrics to support your discussion. Repeat the experiment for baud rate 115200bps.\n",
    "\n",
    "<br>"
   ]
  },
  {
   "cell_type": "markdown",
   "metadata": {},
   "source": [
    "4) Consider the Analog Devices TMP36 temperature (TMP) sensor represented in the following Figure. Assemble the circuit on a breadboard, powering it from your circuit board, and connect the analog output to an analog input of your choice. Expand your firmware to, in addition to the data already sent, sample and stream also the TMP sensor data. With the sampling rate on your firmware set to 100Hz and a baud rate set to 9600bps, compare how sending the TMP data as raw ADC digital codes and as ºC affects the execution time. The measurement range for the Analog Devices TMP36 sensor used in this assembly is [-40; 125]ºC and the scale factor is 10mV/ºC [1].\n",
    "\n",
    "<img src=\"https://github.com/PIA-Group/ScientIST-notebooks/blob/master/_Resources/Images/A.Signal_Acquisition_IMG/a013/Setup TMP36.png?raw=true\" width=\"600\" border=\"0\">\n",
    "\n",
    "                        TMP36 sensor. GND: 0V; 3V3: 3.3V power supply; A: Analog output.\n",
    "\n",
    "<div style=\"background:#fe9b29; font-family:'arial', monospace;text-align: center; padding: 10px 0; border-radius:10px; width:70%; margin:auto \" >\n",
    "  <span style=\"font-size:20px;position:relative;color:white; \">  Caution! </span> <br>\n",
    "  <div style=\"background:#ffdab0;font-size:12px\"> \n",
    "BE CAREFUL when connecting the temperature sensor to the breadboard; it has a specific position and CAN BE DAMAGED IF WRONGLY CONNECTED. Triple check your wiring before powering up the system, and check if the sensor is overheating.\n",
    "</div>\n",
    "</div>"
   ]
  },
  {
   "cell_type": "markdown",
   "metadata": {},
   "source": [
    "<br>\n",
    "5) Consider the Electrocardiography (ECG) sensor represented in the following Figure. Assemble the circuit on a breadboard, powering it from your circuit board, and connect the analog output to an analog input of your choice. Expand your firmware to, in addition to the data already sent, sample and stream also the ECG sensor data in milliVolt. Show a visual depiction of your ECG signal trace for 1000Hz, 100Hz, 10Hz, and 1Hz, and comment your findings. The specifications and placement instructions for the ECG sensor can be found in the sensor datasheet [2].\n",
    "\n",
    "<img src=\"https://github.com/PIA-Group/ScientIST-notebooks/blob/master/_Resources/Images/A.Signal_Acquisition_IMG/a013/Setup ECG.png?raw=true\" width=\"400\" border=\"0\">\n",
    "\n",
    "    Electrocardiography (ECG) sensor with electrode connection leads and jumper wires. GND: 0V; 3V3: 3.3V power supply; A: Analog output.\n",
    "\n",
    "<div style=\"background:#fe9b29; font-family:'arial', monospace;text-align: center; padding: 10px 0; border-radius:10px; width:70%; margin:auto \" >\n",
    "  <span style=\"font-size:20px;position:relative;color:white; \">  Caution! </span> <br>\n",
    "  <div style=\"background:#ffdab0;font-size:12px\"> \n",
    "    BE CAREFUL when connecting the ECG sensor to the breadboard; it has a maximum input voltage rating and CAN BE DAMAGED IF WRONGLY CONNECTED. Triple check your wiring before powering up the system.\n",
    "</div>\n",
    "</div>"
   ]
  },
  {
   "cell_type": "markdown",
   "metadata": {},
   "source": [
    "# III. Explore\n",
    "<br>\n",
    "<div class='h1'  style=\"width:100%; background:#00a0e4;color:#282828;font-family:'arial black'; text-align: center; padding: 7px 0; border-radius: 5px 50px;margin-top:-15px\" > </div>"
   ]
  },
  {
   "cell_type": "markdown",
   "metadata": {},
   "source": [
    "### <div style=\"color:#00a0e4\">   References </div>\n",
    "\n",
    "1. https://www.analog.com/media/en/technical-documentation/data-sheets/TMP35_36_37.pdf \n",
    "2. https://bitalino.com/storage/uploads/media/revolution-ecg-sensor-datasheet-revb-1.pdf \n",
    "3. https://www.arduino.cc/reference/tr/language/functions/communication/serial/begin/ \n"
   ]
  },
  {
   "cell_type": "markdown",
   "metadata": {},
   "source": [
    "<div style=\"height:100px; background:white;border-radius:10px;text-align:center\"> \n",
    "\n",
    "<a> <img src=\"https://github.com/PIA-Group/ScientIST-notebooks/blob/master/_Resources/Images/IT.png?raw=true\" alt=\"it\" style=\" bottom: 0; width:250px;\n",
    "    display: inline;\n",
    "    left: 250px;\n",
    "    position: absolute;\"/> </a>\n",
    "<img src=\"https://github.com/PIA-Group/ScientIST-notebooks/blob/master/_Resources/Images/IST.png?raw=true\"\n",
    "         alt=\"alternate text\" \n",
    "         style=\"position: relative;   width:250px; float: left;\n",
    "    position: absolute;\n",
    "    display: inline;\n",
    "    bottom: 0;\n",
    "    right: 100;\"/>\n",
    "</div>  "
   ]
  },
  {
   "cell_type": "markdown",
   "metadata": {},
   "source": [
    "<div style=\"width: 100%; \">\n",
    "<div style=\"background:#00a0e4;color:white;font-family:'arial', monospace; text-align: center; padding: 50px 0; border-radius:10px; height:10px; width:100%; float:left \" >\n",
    "<span style=\"font-size:12px;position:relative; top:-25px\">  Please provide us your feedback <span style=\"font-size:14px;position:relative;COLOR:WHITE\"> <a href=\"https://forms.gle/C8TdLQUAS9r8BNJM8\">here</a>.</span></span> \n",
    "<br>\n",
    "<span style=\"font-size:17px;position:relative; top:-20px\">  Suggestions are welcome! </span> \n",
    "</div>"
   ]
  },
  {
   "cell_type": "markdown",
   "metadata": {},
   "source": [
    "```Contributors: Prof. João Miguel Sanches; Prof. Hugo Plácido da Silva; Joana Pinto```"
   ]
  }
 ],
 "metadata": {
  "kernelspec": {
   "display_name": "Python 3",
   "language": "python",
   "name": "python3"
  },
  "language_info": {
   "codemirror_mode": {
    "name": "ipython",
    "version": 3
   },
   "file_extension": ".py",
   "mimetype": "text/x-python",
   "name": "python",
   "nbconvert_exporter": "python",
   "pygments_lexer": "ipython3",
   "version": "3.7.6"
  }
 },
 "nbformat": 4,
 "nbformat_minor": 4
}
