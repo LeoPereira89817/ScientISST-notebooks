{
 "cells": [
  {
   "cell_type": "markdown",
   "metadata": {},
   "source": [
    " # <div  style=\"color:#303030;font-family:'arial blACK', sans-serif,monospace; text-align: center; padding: 50px 0; vertical-align:middle;\" > <img src=\"https://github.com/PIA-Group/ScientIST-notebooks/blob/master/_Resources/Images/Lightbulb.png?raw=true\" style=\" background:#00a0e4;border-radius:10px;width:150px;text-align:left; margin-left:10%\"  /> <span style=\"position:relative; bottom:70px; margin-left:5%\">    Basic Circuit Analysis </span> </div>"
   ]
  },
  {
   "cell_type": "markdown",
   "metadata": {},
   "source": [
    "## <span style=\"color:#00a0e4;\"> Keywords: </span>"
   ]
  },
  {
   "cell_type": "markdown",
   "metadata": {},
   "source": [
    "```Digital to Analog Converter (DAC)```, ```Digital Signal Processing (DSP)```, ```Arduino```"
   ]
  },
  {
   "cell_type": "markdown",
   "metadata": {},
   "source": [
    "# I. Introduction\n",
    "<br>\n",
    "<div class=\"title\"style=\"width:100%; background:#00a0e4;font-family:'arial black',monospace; text-align: center; padding: 7px 0; border-radius: 5px 50px;margin-top:-15px\" >  </div>"
   ]
  },
  {
   "cell_type": "markdown",
   "metadata": {},
   "source": [
    "## <div style=\"color:#00a0e4\"> 1. Background </div>"
   ]
  },
  {
   "cell_type": "markdown",
   "metadata": {},
   "source": [
    "This session aims at exploring basic circuit analysis in the time and frequency domains, as well as reinforcing the use of the Arduino as laboratory equipment. \n"
   ]
  },
  {
   "cell_type": "markdown",
   "metadata": {},
   "source": [
    "<div style=\"background:#00bfc2;font-family:'arial', monospace; text-align: center; padding: 10px 0; border-radius:10px; width:70%; margin:auto \" >\n",
    "  <span style=\"font-size:20px;position:relative;color:white; \">  Note </span> <br>\n",
    "  <div style=\"background:#9eddde;font-size:12px\"> \n",
    "    If you have difficulties with the hardware setup, use Tinkercad [1]. <br/>Files with pre-recorded data are also provided for some experiments.\n",
    "</div>\n",
    "</div>"
   ]
  },
  {
   "cell_type": "markdown",
   "metadata": {},
   "source": [
    "## <div style=\"color:#00a0e4\"> 2. Objectives</div>\n",
    "* Understand the process of converting a digital signal to an analog representation\n",
    "* Learn how to use Arduino-type systems as a basic function generator and signal visualizer \n",
    "* Explore the use of bitwise operators for low-level numerical manipulation\n",
    "\n"
   ]
  },
  {
   "cell_type": "markdown",
   "metadata": {},
   "source": [
    "## <div style=\"color:#00a0e4\"> 3. Materials (optional) </div>\n",
    "* Arduino IDE\n",
    "* 1x Breadboard\n",
    "* 5x Jumper wires\n",
    "* 10x 10kOhm resistors\n",
    "* 1x Arduino (or analogous device)\n",
    "* 1x USB cable"
   ]
  },
  {
   "cell_type": "markdown",
   "metadata": {},
   "source": [
    "# II. Experimental\n",
    "<br>\n",
    "<div style=\"width:100%; background:#00a0e4;color:#282828;font-family:'arial black'; text-align: center; padding: 7px 0; border-radius: 5px 50px; margin-top:-15px\" > </div>"
   ]
  },
  {
   "cell_type": "markdown",
   "metadata": {},
   "source": [
    "Mount the passive RC circuit represented in Figure 1 using the materials available in your kit.\n",
    "\n",
    "<img src=\"https://github.com/PIA-Group/ScientIST-notebooks/blob/master/_Resources/Images/A.Signal_Acquisition_IMG/a015/rccircuit.png?raw=true\" width=400/>\n",
    "\n",
    "    Figure 1 - RC passive test circuit"
   ]
  },
  {
   "cell_type": "markdown",
   "metadata": {},
   "source": [
    "# III. Explore\n",
    "<br>\n",
    "<div class='h1'  style=\"width:100%; background:#00a0e4;color:#282828;font-family:'arial black'; text-align: center; padding: 7px 0; border-radius: 5px 50px;margin-top:-15px\" > </div>"
   ]
  },
  {
   "cell_type": "markdown",
   "metadata": {},
   "source": [
    "## <div style=\"color:#00a0e4\">  1. Quizz </div>"
   ]
  },
  {
   "cell_type": "markdown",
   "metadata": {},
   "source": [
    "1) Derive the voltages (v) and currents (i) displayed in the circuit when a DC voltage of 3.3V is applied at the input, vi = 3.3V.\n",
    "\n",
    "\n",
    "<img src=\"https://github.com/PIA-Group/ScientIST-notebooks/blob/master/_Resources/Images/A.Signal_Acquisition_IMG/a015/vctable.png?raw=true\" width=400/>"
   ]
  },
  {
   "cell_type": "markdown",
   "metadata": {},
   "source": [
    "2) Using your Arduino measure vo and compare it with the voltage derived in 1)."
   ]
  },
  {
   "cell_type": "markdown",
   "metadata": {},
   "source": [
    "3)  Derive the transfer function G(s)=V0(s)/Vi(s) and the frequency response, H(ω). What type of filter is this circuit? Characterize it according the following parameters:\n",
    "\n",
    "    a) DC gain\n",
    "    b) -3dB cut-off frequency\n",
    "    c) High frequency asymptotic decay slope."
   ]
  },
  {
   "cell_type": "markdown",
   "metadata": {},
   "source": [
    "4) The following Table presents the magnitude measurements of vo, for sine waves different frequencies with 1 Vpp as input, vi. Display these results in the semi-log plot in the next page in dBs (20log(v0/vi)).\n",
    "\n",
    "<img src=\"https://github.com/PIA-Group/ScientIST-notebooks/blob/master/_Resources/Images/A.Signal_Acquisition_IMG/a015/fresp.png?raw=true\" width=400/>\n",
    "\n",
    "        Frequency response"
   ]
  },
  {
   "cell_type": "code",
   "execution_count": 13,
   "metadata": {},
   "outputs": [
    {
     "data": {
      "text/html": [
       "<style  type=\"text/css\" >\n",
       "    #T_788008c0_9845_11eb_81e6_3e22fbcb0872 th {\n",
       "          font-size: 125%;\n",
       "          color: #00a0e4;\n",
       "          text-align: center;\n",
       "    }    #T_788008c0_9845_11eb_81e6_3e22fbcb0872 tr {\n",
       "          text-align: center;\n",
       "    }</style><table id=\"T_788008c0_9845_11eb_81e6_3e22fbcb0872\" ><thead>    <tr>        <th class=\"blank level0\" ></th>        <th class=\"col_heading level0 col0\" ># Medida</th>        <th class=\"col_heading level0 col1\" > Freq. (Hz)</th>        <th class=\"col_heading level0 col2\" > Vpp (mV)</th>    </tr></thead><tbody>\n",
       "                <tr>\n",
       "                        <th id=\"T_788008c0_9845_11eb_81e6_3e22fbcb0872level0_row0\" class=\"row_heading level0 row0\" >0</th>\n",
       "                        <td id=\"T_788008c0_9845_11eb_81e6_3e22fbcb0872row0_col0\" class=\"data row0 col0\" >1</td>\n",
       "                        <td id=\"T_788008c0_9845_11eb_81e6_3e22fbcb0872row0_col1\" class=\"data row0 col1\" >5</td>\n",
       "                        <td id=\"T_788008c0_9845_11eb_81e6_3e22fbcb0872row0_col2\" class=\"data row0 col2\" >940.2</td>\n",
       "            </tr>\n",
       "            <tr>\n",
       "                        <th id=\"T_788008c0_9845_11eb_81e6_3e22fbcb0872level0_row1\" class=\"row_heading level0 row1\" >1</th>\n",
       "                        <td id=\"T_788008c0_9845_11eb_81e6_3e22fbcb0872row1_col0\" class=\"data row1 col0\" >2</td>\n",
       "                        <td id=\"T_788008c0_9845_11eb_81e6_3e22fbcb0872row1_col1\" class=\"data row1 col1\" >10</td>\n",
       "                        <td id=\"T_788008c0_9845_11eb_81e6_3e22fbcb0872row1_col2\" class=\"data row1 col2\" >940.2</td>\n",
       "            </tr>\n",
       "            <tr>\n",
       "                        <th id=\"T_788008c0_9845_11eb_81e6_3e22fbcb0872level0_row2\" class=\"row_heading level0 row2\" >2</th>\n",
       "                        <td id=\"T_788008c0_9845_11eb_81e6_3e22fbcb0872row2_col0\" class=\"data row2 col0\" >3</td>\n",
       "                        <td id=\"T_788008c0_9845_11eb_81e6_3e22fbcb0872row2_col1\" class=\"data row2 col1\" >50</td>\n",
       "                        <td id=\"T_788008c0_9845_11eb_81e6_3e22fbcb0872row2_col2\" class=\"data row2 col2\" >930.4</td>\n",
       "            </tr>\n",
       "            <tr>\n",
       "                        <th id=\"T_788008c0_9845_11eb_81e6_3e22fbcb0872level0_row3\" class=\"row_heading level0 row3\" >3</th>\n",
       "                        <td id=\"T_788008c0_9845_11eb_81e6_3e22fbcb0872row3_col0\" class=\"data row3 col0\" >4</td>\n",
       "                        <td id=\"T_788008c0_9845_11eb_81e6_3e22fbcb0872row3_col1\" class=\"data row3 col1\" >100</td>\n",
       "                        <td id=\"T_788008c0_9845_11eb_81e6_3e22fbcb0872row3_col2\" class=\"data row3 col2\" >930.4</td>\n",
       "            </tr>\n",
       "            <tr>\n",
       "                        <th id=\"T_788008c0_9845_11eb_81e6_3e22fbcb0872level0_row4\" class=\"row_heading level0 row4\" >4</th>\n",
       "                        <td id=\"T_788008c0_9845_11eb_81e6_3e22fbcb0872row4_col0\" class=\"data row4 col0\" >5</td>\n",
       "                        <td id=\"T_788008c0_9845_11eb_81e6_3e22fbcb0872row4_col1\" class=\"data row4 col1\" >500</td>\n",
       "                        <td id=\"T_788008c0_9845_11eb_81e6_3e22fbcb0872row4_col2\" class=\"data row4 col2\" >918.2</td>\n",
       "            </tr>\n",
       "            <tr>\n",
       "                        <th id=\"T_788008c0_9845_11eb_81e6_3e22fbcb0872level0_row5\" class=\"row_heading level0 row5\" >5</th>\n",
       "                        <td id=\"T_788008c0_9845_11eb_81e6_3e22fbcb0872row5_col0\" class=\"data row5 col0\" >6</td>\n",
       "                        <td id=\"T_788008c0_9845_11eb_81e6_3e22fbcb0872row5_col1\" class=\"data row5 col1\" >1000</td>\n",
       "                        <td id=\"T_788008c0_9845_11eb_81e6_3e22fbcb0872row5_col2\" class=\"data row5 col2\" >880.7</td>\n",
       "            </tr>\n",
       "            <tr>\n",
       "                        <th id=\"T_788008c0_9845_11eb_81e6_3e22fbcb0872level0_row6\" class=\"row_heading level0 row6\" >6</th>\n",
       "                        <td id=\"T_788008c0_9845_11eb_81e6_3e22fbcb0872row6_col0\" class=\"data row6 col0\" >7</td>\n",
       "                        <td id=\"T_788008c0_9845_11eb_81e6_3e22fbcb0872row6_col1\" class=\"data row6 col1\" >1500</td>\n",
       "                        <td id=\"T_788008c0_9845_11eb_81e6_3e22fbcb0872row6_col2\" class=\"data row6 col2\" >820.9</td>\n",
       "            </tr>\n",
       "            <tr>\n",
       "                        <th id=\"T_788008c0_9845_11eb_81e6_3e22fbcb0872level0_row7\" class=\"row_heading level0 row7\" >7</th>\n",
       "                        <td id=\"T_788008c0_9845_11eb_81e6_3e22fbcb0872row7_col0\" class=\"data row7 col0\" >8</td>\n",
       "                        <td id=\"T_788008c0_9845_11eb_81e6_3e22fbcb0872row7_col1\" class=\"data row7 col1\" >2000</td>\n",
       "                        <td id=\"T_788008c0_9845_11eb_81e6_3e22fbcb0872row7_col2\" class=\"data row7 col2\" >750.8</td>\n",
       "            </tr>\n",
       "            <tr>\n",
       "                        <th id=\"T_788008c0_9845_11eb_81e6_3e22fbcb0872level0_row8\" class=\"row_heading level0 row8\" >8</th>\n",
       "                        <td id=\"T_788008c0_9845_11eb_81e6_3e22fbcb0872row8_col0\" class=\"data row8 col0\" >9</td>\n",
       "                        <td id=\"T_788008c0_9845_11eb_81e6_3e22fbcb0872row8_col1\" class=\"data row8 col1\" >2500</td>\n",
       "                        <td id=\"T_788008c0_9845_11eb_81e6_3e22fbcb0872row8_col2\" class=\"data row8 col2\" >690.3</td>\n",
       "            </tr>\n",
       "            <tr>\n",
       "                        <th id=\"T_788008c0_9845_11eb_81e6_3e22fbcb0872level0_row9\" class=\"row_heading level0 row9\" >9</th>\n",
       "                        <td id=\"T_788008c0_9845_11eb_81e6_3e22fbcb0872row9_col0\" class=\"data row9 col0\" >10</td>\n",
       "                        <td id=\"T_788008c0_9845_11eb_81e6_3e22fbcb0872row9_col1\" class=\"data row9 col1\" >3000</td>\n",
       "                        <td id=\"T_788008c0_9845_11eb_81e6_3e22fbcb0872row9_col2\" class=\"data row9 col2\" >630.2</td>\n",
       "            </tr>\n",
       "            <tr>\n",
       "                        <th id=\"T_788008c0_9845_11eb_81e6_3e22fbcb0872level0_row10\" class=\"row_heading level0 row10\" >10</th>\n",
       "                        <td id=\"T_788008c0_9845_11eb_81e6_3e22fbcb0872row10_col0\" class=\"data row10 col0\" >11</td>\n",
       "                        <td id=\"T_788008c0_9845_11eb_81e6_3e22fbcb0872row10_col1\" class=\"data row10 col1\" >4000</td>\n",
       "                        <td id=\"T_788008c0_9845_11eb_81e6_3e22fbcb0872row10_col2\" class=\"data row10 col2\" >530.1</td>\n",
       "            </tr>\n",
       "            <tr>\n",
       "                        <th id=\"T_788008c0_9845_11eb_81e6_3e22fbcb0872level0_row11\" class=\"row_heading level0 row11\" >11</th>\n",
       "                        <td id=\"T_788008c0_9845_11eb_81e6_3e22fbcb0872row11_col0\" class=\"data row11 col0\" >12</td>\n",
       "                        <td id=\"T_788008c0_9845_11eb_81e6_3e22fbcb0872row11_col1\" class=\"data row11 col1\" >5000</td>\n",
       "                        <td id=\"T_788008c0_9845_11eb_81e6_3e22fbcb0872row11_col2\" class=\"data row11 col2\" >443.9</td>\n",
       "            </tr>\n",
       "            <tr>\n",
       "                        <th id=\"T_788008c0_9845_11eb_81e6_3e22fbcb0872level0_row12\" class=\"row_heading level0 row12\" >12</th>\n",
       "                        <td id=\"T_788008c0_9845_11eb_81e6_3e22fbcb0872row12_col0\" class=\"data row12 col0\" >13</td>\n",
       "                        <td id=\"T_788008c0_9845_11eb_81e6_3e22fbcb0872row12_col1\" class=\"data row12 col1\" >6000</td>\n",
       "                        <td id=\"T_788008c0_9845_11eb_81e6_3e22fbcb0872row12_col2\" class=\"data row12 col2\" >396.6</td>\n",
       "            </tr>\n",
       "            <tr>\n",
       "                        <th id=\"T_788008c0_9845_11eb_81e6_3e22fbcb0872level0_row13\" class=\"row_heading level0 row13\" >13</th>\n",
       "                        <td id=\"T_788008c0_9845_11eb_81e6_3e22fbcb0872row13_col0\" class=\"data row13 col0\" >14</td>\n",
       "                        <td id=\"T_788008c0_9845_11eb_81e6_3e22fbcb0872row13_col1\" class=\"data row13 col1\" >8000</td>\n",
       "                        <td id=\"T_788008c0_9845_11eb_81e6_3e22fbcb0872row13_col2\" class=\"data row13 col2\" >310.2</td>\n",
       "            </tr>\n",
       "            <tr>\n",
       "                        <th id=\"T_788008c0_9845_11eb_81e6_3e22fbcb0872level0_row14\" class=\"row_heading level0 row14\" >14</th>\n",
       "                        <td id=\"T_788008c0_9845_11eb_81e6_3e22fbcb0872row14_col0\" class=\"data row14 col0\" >15</td>\n",
       "                        <td id=\"T_788008c0_9845_11eb_81e6_3e22fbcb0872row14_col1\" class=\"data row14 col1\" >10000</td>\n",
       "                        <td id=\"T_788008c0_9845_11eb_81e6_3e22fbcb0872row14_col2\" class=\"data row14 col2\" >250.4</td>\n",
       "            </tr>\n",
       "            <tr>\n",
       "                        <th id=\"T_788008c0_9845_11eb_81e6_3e22fbcb0872level0_row15\" class=\"row_heading level0 row15\" >15</th>\n",
       "                        <td id=\"T_788008c0_9845_11eb_81e6_3e22fbcb0872row15_col0\" class=\"data row15 col0\" >16</td>\n",
       "                        <td id=\"T_788008c0_9845_11eb_81e6_3e22fbcb0872row15_col1\" class=\"data row15 col1\" >20000</td>\n",
       "                        <td id=\"T_788008c0_9845_11eb_81e6_3e22fbcb0872row15_col2\" class=\"data row15 col2\" >140.2</td>\n",
       "            </tr>\n",
       "            <tr>\n",
       "                        <th id=\"T_788008c0_9845_11eb_81e6_3e22fbcb0872level0_row16\" class=\"row_heading level0 row16\" >16</th>\n",
       "                        <td id=\"T_788008c0_9845_11eb_81e6_3e22fbcb0872row16_col0\" class=\"data row16 col0\" >17</td>\n",
       "                        <td id=\"T_788008c0_9845_11eb_81e6_3e22fbcb0872row16_col1\" class=\"data row16 col1\" >50000</td>\n",
       "                        <td id=\"T_788008c0_9845_11eb_81e6_3e22fbcb0872row16_col2\" class=\"data row16 col2\" >52</td>\n",
       "            </tr>\n",
       "            <tr>\n",
       "                        <th id=\"T_788008c0_9845_11eb_81e6_3e22fbcb0872level0_row17\" class=\"row_heading level0 row17\" >17</th>\n",
       "                        <td id=\"T_788008c0_9845_11eb_81e6_3e22fbcb0872row17_col0\" class=\"data row17 col0\" >18</td>\n",
       "                        <td id=\"T_788008c0_9845_11eb_81e6_3e22fbcb0872row17_col1\" class=\"data row17 col1\" >100000</td>\n",
       "                        <td id=\"T_788008c0_9845_11eb_81e6_3e22fbcb0872row17_col2\" class=\"data row17 col2\" >28.04</td>\n",
       "            </tr>\n",
       "            <tr>\n",
       "                        <th id=\"T_788008c0_9845_11eb_81e6_3e22fbcb0872level0_row18\" class=\"row_heading level0 row18\" >18</th>\n",
       "                        <td id=\"T_788008c0_9845_11eb_81e6_3e22fbcb0872row18_col0\" class=\"data row18 col0\" >19</td>\n",
       "                        <td id=\"T_788008c0_9845_11eb_81e6_3e22fbcb0872row18_col1\" class=\"data row18 col1\" >150000</td>\n",
       "                        <td id=\"T_788008c0_9845_11eb_81e6_3e22fbcb0872row18_col2\" class=\"data row18 col2\" >19.8</td>\n",
       "            </tr>\n",
       "            <tr>\n",
       "                        <th id=\"T_788008c0_9845_11eb_81e6_3e22fbcb0872level0_row19\" class=\"row_heading level0 row19\" >19</th>\n",
       "                        <td id=\"T_788008c0_9845_11eb_81e6_3e22fbcb0872row19_col0\" class=\"data row19 col0\" >20</td>\n",
       "                        <td id=\"T_788008c0_9845_11eb_81e6_3e22fbcb0872row19_col1\" class=\"data row19 col1\" >500000</td>\n",
       "                        <td id=\"T_788008c0_9845_11eb_81e6_3e22fbcb0872row19_col2\" class=\"data row19 col2\" >8.1</td>\n",
       "            </tr>\n",
       "            <tr>\n",
       "                        <th id=\"T_788008c0_9845_11eb_81e6_3e22fbcb0872level0_row20\" class=\"row_heading level0 row20\" >20</th>\n",
       "                        <td id=\"T_788008c0_9845_11eb_81e6_3e22fbcb0872row20_col0\" class=\"data row20 col0\" >21</td>\n",
       "                        <td id=\"T_788008c0_9845_11eb_81e6_3e22fbcb0872row20_col1\" class=\"data row20 col1\" >1e+06</td>\n",
       "                        <td id=\"T_788008c0_9845_11eb_81e6_3e22fbcb0872row20_col2\" class=\"data row20 col2\" >4.1</td>\n",
       "            </tr>\n",
       "    </tbody></table>"
      ],
      "text/plain": [
       "<pandas.io.formats.style.Styler at 0x7f8f48359c10>"
      ]
     },
     "execution_count": 13,
     "metadata": {},
     "output_type": "execute_result"
    }
   ],
   "source": [
    "# Example: \n",
    "\n",
    "import pylab as pl\n",
    "import matplotlib.pyplot as plt\n",
    "\n",
    "fname = '../X.Example_Files/L4.4.csv'\n",
    "\n",
    "dados = pd.read_csv(fname,  delimiter = ',')\n",
    "\n",
    "dados\n",
    "dados.style.set_table_styles([dict(selector=\"th\", props=[(\"font-size\", \"125%\"),(\"color\", \"#00a0e4\"),\n",
    "                               (\"text-align\", \"center\")]), \n",
    "                             dict(selector=\"tr\", props=[\n",
    "                               (\"text-align\", \"center\")])])\n"
   ]
  },
  {
   "cell_type": "markdown",
   "metadata": {},
   "source": [
    "5) Draw the asymptotic frequency response, derived from the transfer function obtained in 3), over the experimental points presented in 4).\n",
    "\n",
    "<img src=\"https://github.com/PIA-Group/ScientIST-notebooks/blob/master/_Resources/Images/A.Signal_Acquisition_IMG/a015/asymptoticfrequencyresponse.png?raw=true\" width=400/>\n"
   ]
  },
  {
   "cell_type": "markdown",
   "metadata": {},
   "source": [
    "<div style=\"height:100px; background:white;border-radius:10px;text-align:center\"> \n",
    "\n",
    "<a> <img src=\"https://github.com/PIA-Group/ScientIST-notebooks/blob/master/_Resources/Images/IT.png?raw=true\" alt=\"it\" style=\" bottom: 0; width:250px;\n",
    "    display: inline;\n",
    "    left: 250px;\n",
    "    position: absolute;\"/> </a>\n",
    "<img src=\"https://github.com/PIA-Group/ScientIST-notebooks/blob/master/_Resources/Images/IST.png?raw=true\"\n",
    "         alt=\"alternate text\" \n",
    "         style=\"position: relative;   width:250px; float: left;\n",
    "    position: absolute;\n",
    "    display: inline;\n",
    "    bottom: 0;\n",
    "    right: 100;\"/>\n",
    "</div>  "
   ]
  },
  {
   "cell_type": "markdown",
   "metadata": {},
   "source": [
    "<div style=\"width: 100%; \">\n",
    "<div style=\"background:#00a0e4;color:white;font-family:'arial', monospace; text-align: center; padding: 50px 0; border-radius:10px; height:10px; width:100%; float:left \" >\n",
    "<span style=\"font-size:12px;position:relative; top:-25px\">  Please provide us your feedback <span style=\"font-size:14px;position:relative;COLOR:WHITE\"> <a href=\"https://forms.gle/C8TdLQUAS9r8BNJM8\">here</a>.</span></span> \n",
    "<br>\n",
    "<span style=\"font-size:17px;position:relative; top:-20px\">  Suggestions are welcome! </span> \n",
    "</div>"
   ]
  },
  {
   "cell_type": "markdown",
   "metadata": {},
   "source": [
    "```Contributors: Prof. Hugo Plácido da Silva; Joana Pinto```"
   ]
  }
 ],
 "metadata": {
  "kernelspec": {
   "display_name": "Python 3",
   "language": "python",
   "name": "python3"
  },
  "language_info": {
   "codemirror_mode": {
    "name": "ipython",
    "version": 3
   },
   "file_extension": ".py",
   "mimetype": "text/x-python",
   "name": "python",
   "nbconvert_exporter": "python",
   "pygments_lexer": "ipython3",
   "version": "3.7.6"
  }
 },
 "nbformat": 4,
 "nbformat_minor": 4
}
