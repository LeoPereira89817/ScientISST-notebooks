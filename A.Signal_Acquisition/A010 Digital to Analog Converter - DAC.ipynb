{
 "cells": [
  {
   "cell_type": "markdown",
   "metadata": {},
   "source": [
    " # <div  style=\"color:#303030;font-family:'arial blACK', sans-serif,monospace; text-align: center; padding: 50px 0; vertical-align:middle;\" > <img src=\"https://github.com/PIA-Group/ScientIST-notebooks/blob/master/X.Example_Files/Images/Lightbulb.png?raw=true\" style=\" background:#00a0e4;border-radius:10px;width:150px;text-align:left; margin-left:10%\"  /> <span style=\"position:relative; bottom:70px; margin-left:5%\">    Digital to Analog Converter - DAC </span> </div>"
   ]
  },
  {
   "cell_type": "markdown",
   "metadata": {},
   "source": [
    "## <span style=\"color:#00a0e4;\"> Keywords: </span>"
   ]
  },
  {
   "cell_type": "markdown",
   "metadata": {},
   "source": [
    "```Digital to Analog Converter (DAC)```, ```Digital Signal\n",
    "Processing (DSP)```, ```Arduino```"
   ]
  },
  {
   "cell_type": "markdown",
   "metadata": {},
   "source": [
    "# I. Introduction\n",
    "<br>\n",
    "<div class=\"title\"style=\"width:100%; background:#00a0e4;font-family:'arial black',monospace; text-align: center; padding: 7px 0; border-radius: 5px 50px;margin-top:-15px\" >  </div>"
   ]
  },
  {
   "cell_type": "markdown",
   "metadata": {},
   "source": [
    "## <div style=\"color:#00a0e4\"> 1. Background </div>"
   ]
  },
  {
   "cell_type": "markdown",
   "metadata": {},
   "source": [
    "..."
   ]
  },
  {
   "cell_type": "markdown",
   "metadata": {},
   "source": [
    "## <div style=\"color:#00a0e4\"> 2. Objectives</div>\n",
    "* Objetive 1 ...\n",
    "* Objetive 2 ...\n",
    "* ..."
   ]
  },
  {
   "cell_type": "markdown",
   "metadata": {},
   "source": [
    "## <div style=\"color:#00a0e4\"> 3. Materials (optional) </div>\n",
    "* Material 1 ...\n",
    "* Material 2 ...\n",
    "* ..."
   ]
  },
  {
   "cell_type": "markdown",
   "metadata": {},
   "source": [
    "# II. Experimental\n",
    "<br>\n",
    "<div style=\"width:100%; background:#00a0e4;color:#282828;font-family:'arial black'; text-align: center; padding: 7px 0; border-radius: 5px 50px; margin-top:-15px\" > </div>"
   ]
  },
  {
   "cell_type": "markdown",
   "metadata": {},
   "source": [
    "### <div style=\"color:#00a0e4\">  1. Include a Digital to Anaolg Converter (DAC TDA8702) in the Digital Signal Processing (DSP) system </div>"
   ]
  },
  {
   "cell_type": "markdown",
   "metadata": {},
   "source": [
    "Structure examples of DACs:\n",
    "\n",
    "<img src=\"https://github.com/PIA-Group/ScientIST-notebooks/blob/master/X.Example_Files/Images/A.Signal_Acquisition_IMG/a010/DAC.png?raw=true\" width=\"500\" border=\"0\">"
   ]
  },
  {
   "cell_type": "markdown",
   "metadata": {},
   "source": [
    "### <div style=\"color:#00a0e4\">  2. Generate the following analog output wave </div>\n",
    "\n",
    "<img src=\"https://github.com/PIA-Group/ScientIST-notebooks/blob/master/X.Example_Files/Images/A.Signal_Acquisition_IMG/a010/wave.png?raw=true\" width=\"500\" border=\"0\">"
   ]
  },
  {
   "cell_type": "markdown",
   "metadata": {},
   "source": [
    "The following code is based on the example BitMask from Arduino learning\n",
    "```C\n",
    "\n",
    "byte data=0; // output value\n",
    "int Ts=100; // Sampling period\n",
    "int pinOff =2; //LSB in\n",
    "\n",
    "\n",
    "void setup()\n",
    "{\n",
    "for(pin=2; pin&lt;=9;pin++) pintMode(pin, OUTPUT);\n",
    "}\n",
    "\n",
    "\n",
    "void loop()\n",
    "{\n",
    "byte mask=1;\n",
    "byte pin=pinOff;\n",
    "data=data + 1;\n",
    "for(mask=00000001; mask&gt;0; mask&lt;&lt;=1)\n",
    "{ //iterate through bit mask\n",
    "if (data &amp; mask)    digitalWrite(pin,HIGH);\n",
    "     else digitalWrite(pin,LOW);\n",
    "pin=pin+1;\n",
    "}\n",
    "   delay(Ts); //delay\n",
    "}\n",
    "\n",
    "```"
   ]
  },
  {
   "cell_type": "markdown",
   "metadata": {},
   "source": [
    "<div style=\"background:#00bfc2;font-family:'arial', monospace; text-align: center; padding: 10px 0; border-radius:10px; width:70%; margin:auto \" >\n",
    "  <span style=\"font-size:20px;position:relative;color:white; \">  Note </span> <br>\n",
    "  <div style=\"background:#9eddde;font-size:12px\"> \n",
    "    You can consult the example BitMask from Arduino learning here:\n",
    "https://www.arduino.cc/en/Tutorial/BitMask  \n",
    "</div>\n",
    "</div>"
   ]
  },
  {
   "cell_type": "markdown",
   "metadata": {},
   "source": [
    "### <div style=\"color:#00a0e4\">   3. Alternative Example - Writing an entire byte to the output ports </div>\n",
    "\n",
    "\n",
    "```C\n",
    "void setup(){\n",
    "    // set pins 1 (serial transmit) and 2..7 as output,\n",
    "    // but leave pin 0 (serial receive) as input\n",
    "    // (otherwise serial port will stop working!) ...\n",
    "    DDRD = B11111110; // digital pins 7,6,5,4,3,2,1,0\n",
    "    // set pins 8..13 as output...\n",
    "    DDRB = B00111111; // digital pins -,-,13,12,11,10,9,8\n",
    "    // Turn off digital output pins 2..7 ...\n",
    "    PORTD &amp;= B00000011; // turns off 2..7, but leaves pins 0 and 1 alone\n",
    "    // Write simultaneously to pins 8..13...\n",
    "    PORTB = B00111000; // turns on 13,12,11; turns off 10,9,8\n",
    "}\n",
    "\n",
    "```"
   ]
  },
  {
   "cell_type": "markdown",
   "metadata": {},
   "source": [
    "# III. Explore\n",
    "<br>\n",
    "<div class='h1'  style=\"width:100%; background:#00a0e4;color:#282828;font-family:'arial black'; text-align: center; padding: 7px 0; border-radius: 5px 50px;margin-top:-15px\" > </div>"
   ]
  },
  {
   "cell_type": "markdown",
   "metadata": {},
   "source": [
    "<div style=\"background:#62d321;font-family:'arial', monospace; text-align: center; padding: 10px 0; border-radius:10px; width:70%; margin:auto \" >\n",
    "  <span style=\"font-size:20px;position:relative;color:white; \"> Explore </span> <br>\n",
    "  <div style=\"background:#c5e8b0;font-size:12px\"> \n",
    "    Read the  “Port Registers” here:\n",
    "    https://www.arduino.cc/en/Reference/PortManipulation\n",
    "</div>\n",
    "</div>"
   ]
  },
  {
   "cell_type": "markdown",
   "metadata": {},
   "source": [
    "<div style=\"background:#62d321;font-family:'arial', monospace; text-align: center; padding: 10px 0; border-radius:10px; width:70%; margin:auto \" >\n",
    "  <span style=\"font-size:20px;position:relative;color:white; \"> Explore </span> <br>\n",
    "  <div style=\"background:#c5e8b0;font-size:12px\"> \n",
    "    Read the “Bit Math Tutorial by CosineKitty” here: \n",
    "    https://playground.arduino.cc/Code/BitMath/\n",
    "</div>\n",
    "</div>"
   ]
  },
  {
   "cell_type": "markdown",
   "metadata": {},
   "source": [
    "<div style=\"background:#62d321;font-family:'arial', monospace; text-align: center; padding: 10px 0; border-radius:10px; width:70%; margin:auto \" >\n",
    "  <span style=\"font-size:20px;position:relative;color:white; \"> Explore </span> <br>\n",
    "  <div style=\"background:#c5e8b0;font-size:12px\"> \n",
    "    Read the “DIRECT CONTROL OF ARDUINO UNO DIGITAL INPUT/OUTPUT PINS USING PORT REGISTERS” here:\n",
    "    https://www.google.com/url?sa=D&q=http://www.fiz-ix.com/2013/02/direct-control-of-arduino-uno-digital-inputoutput-pins-using-port-registers/&ust=1602691500000000&usg=AOvVaw3jYM6F1D-5Ctyx4DxTClCG&hl=pt-BR\n",
    "</div>\n",
    "</div>"
   ]
  },
  {
   "cell_type": "markdown",
   "metadata": {},
   "source": [
    "<div style=\"height:100px; background:white;border-radius:10px;text-align:center\"> \n",
    "\n",
    "<a> <img src=\"https://github.com/PIA-Group/ScientIST-notebooks/blob/master/X.Example_Files/Images/IT.png?raw=true\" alt=\"it\" style=\" bottom: 0; width:250px;\n",
    "    display: inline;\n",
    "    left: 250px;\n",
    "    position: absolute;\"/> </a>\n",
    "<img src=\"https://github.com/PIA-Group/ScientIST-notebooks/blob/master/X.Example_Files/Images/ist.png?raw=true\"\n",
    "         alt=\"alternate text\" \n",
    "         style=\"position: relative;   width:250px; float: left;\n",
    "    position: absolute;\n",
    "    display: inline;\n",
    "    bottom: 0;\n",
    "    right: 100;\"/>\n",
    "</div>  "
   ]
  },
  {
   "cell_type": "markdown",
   "metadata": {},
   "source": [
    "<div style=\"width: 100%; \">\n",
    "<div style=\"background:#00a0e4;color:white;font-family:'arial', monospace; text-align: center; padding: 50px 0; border-radius:10px; height:10px; width:100%; float:left \" >\n",
    "<span style=\"font-size:12px;position:relative; top:-25px\">  Please provide us your feedback <span style=\"font-size:14px;position:relative;COLOR:WHITE\"> <a href=\"https://forms.gle/C8TdLQUAS9r8BNJM8\">here</a>.</span></span> \n",
    "<br>\n",
    "<span style=\"font-size:17px;position:relative; top:-20px\">  Suggestions are welcome! </span> \n",
    "</div>"
   ]
  },
  {
   "cell_type": "markdown",
   "metadata": {},
   "source": [
    "```Contributors: Prof. João Miguel Sanches; Prof. Hugo Plácido da Silva; Joana Pinto```"
   ]
  }
 ],
 "metadata": {
  "kernelspec": {
   "display_name": "Python 3",
   "language": "python",
   "name": "python3"
  },
  "language_info": {
   "codemirror_mode": {
    "name": "ipython",
    "version": 3
   },
   "file_extension": ".py",
   "mimetype": "text/x-python",
   "name": "python",
   "nbconvert_exporter": "python",
   "pygments_lexer": "ipython3",
   "version": "3.7.6"
  }
 },
 "nbformat": 4,
 "nbformat_minor": 4
}
