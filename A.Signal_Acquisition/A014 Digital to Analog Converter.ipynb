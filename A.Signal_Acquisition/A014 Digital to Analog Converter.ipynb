{
 "cells": [
  {
   "cell_type": "markdown",
   "metadata": {},
   "source": [
    " # <div  style=\"color:#303030;font-family:'arial blACK', sans-serif,monospace; text-align: center; padding: 50px 0; vertical-align:middle;\" > <img src=\"https://github.com/PIA-Group/ScientIST-notebooks/blob/master/_Resources/Images/Lightbulb.png?raw=true\" style=\" background:#00a0e4;border-radius:10px;width:150px;text-align:left; margin-left:10%\"  /> <span style=\"position:relative; bottom:70px; margin-left:5%\">    Digital to Analog Converter - DAC </span> </div>"
   ]
  },
  {
   "cell_type": "markdown",
   "metadata": {},
   "source": [
    "## <span style=\"color:#00a0e4;\"> Keywords: </span>"
   ]
  },
  {
   "cell_type": "markdown",
   "metadata": {},
   "source": [
    "```Digital to Analog Converter (DAC)```, ```Digital Signal Processing (DSP)```, ```Arduino```"
   ]
  },
  {
   "cell_type": "markdown",
   "metadata": {},
   "source": [
    "# I. Introduction\n",
    "<br>\n",
    "<div class=\"title\"style=\"width:100%; background:#00a0e4;font-family:'arial black',monospace; text-align: center; padding: 7px 0; border-radius: 5px 50px;margin-top:-15px\" >  </div>"
   ]
  },
  {
   "cell_type": "markdown",
   "metadata": {},
   "source": [
    "## <div style=\"color:#00a0e4\"> 1. Background </div>"
   ]
  },
  {
   "cell_type": "markdown",
   "metadata": {},
   "source": [
    "Digital systems often need to produce an effect in the physical world, in the form of continuous time-varying quantities. Such goal can be accomplished using the finite discrete numerical representation capabilities of embedded systems, to generate analog physical quantities (e.g. a voltage). This session aims at experimenting this process in practice, using the Arduino as a basic function generator and oscilloscope."
   ]
  },
  {
   "cell_type": "markdown",
   "metadata": {},
   "source": [
    "<div style=\"background:#00bfc2;font-family:'arial', monospace; text-align: center; padding: 10px 0; border-radius:10px; width:70%; margin:auto \" >\n",
    "  <span style=\"font-size:20px;position:relative;color:white; \">  Note </span> <br>\n",
    "  <div style=\"background:#9eddde;font-size:12px\"> \n",
    "    If you have difficulties with the hardware setup, use Tinkercad [1]. <br/>Files with pre-recorded data are also provided for some experiments.\n",
    "</div>\n",
    "</div>"
   ]
  },
  {
   "cell_type": "markdown",
   "metadata": {},
   "source": [
    "## <div style=\"color:#00a0e4\"> 2. Objectives</div>\n",
    "* Understand the process of converting a digital signal to an analog representation\n",
    "* Learn how to use Arduino-type systems as a basic function generator and signal visualizer \n",
    "* Explore the use of bitwise operators for low-level numerical manipulation\n",
    "\n"
   ]
  },
  {
   "cell_type": "markdown",
   "metadata": {},
   "source": [
    "## <div style=\"color:#00a0e4\"> 3. Materials (optional) </div>\n",
    "* Arduino IDE\n",
    "* 1x Breadboard\n",
    "* 5x Jumper wires\n",
    "* 10x 10kOhm resistors\n",
    "* 1x Arduino (or analogous device)\n",
    "* 1x USB cable"
   ]
  },
  {
   "cell_type": "markdown",
   "metadata": {},
   "source": [
    "# II. Experimental\n",
    "<br>\n",
    "<div style=\"width:100%; background:#00a0e4;color:#282828;font-family:'arial black'; text-align: center; padding: 7px 0; border-radius: 5px 50px; margin-top:-15px\" > </div>"
   ]
  },
  {
   "cell_type": "markdown",
   "metadata": {},
   "source": [
    "Adapt the firmware developed in the  <a href=\"./A013 Analog to Digital Converter - ADC.ipynb\">A013 session </a> to sample the analog inputs A0 and A1 at 50Hz, and stream them, together with the elapsed time since the board began running the program, through the serial port (the suggested baud rate is 115200bps). As before, a formatted sequence of comma-separated values (CSV) should be used (e.g. < TIME>,< A0>,< A1>); make sure that each sequence ends with a line feed character. \n",
    "\n",
    "Spreadsheet software of your choice was previously suggested to analyze the data, however, you can also acquire the data stream produced by the Arduino directly from a Python script. The following code can be used as a base (note that this is an optional step):\n"
   ]
  },
  {
   "cell_type": "code",
   "execution_count": 1,
   "metadata": {
    "collapsed": true
   },
   "outputs": [],
   "source": [
    "!pip install serial >/dev/null 2>&1"
   ]
  },
  {
   "cell_type": "code",
   "execution_count": 2,
   "metadata": {
    "collapsed": false
   },
   "outputs": [
    {
     "name": "stdout",
     "output_type": "stream",
     "text": [
      "error\n"
     ]
    },
    {
     "ename": "NameError",
     "evalue": "name 'fp' is not defined",
     "output_type": "error",
     "traceback": [
      "\u001b[0;31m---------------------------------------------------------------------------\u001b[0m",
      "\u001b[0;31mNameError\u001b[0m                                 Traceback (most recent call last)",
      "\u001b[0;32m<ipython-input-2-58392f8fa7ae>\u001b[0m in \u001b[0;36m<module>\u001b[0;34m()\u001b[0m\n\u001b[1;32m     20\u001b[0m     \u001b[0;32mprint\u001b[0m\u001b[0;34m(\u001b[0m\u001b[0;34m\"error\"\u001b[0m\u001b[0;34m)\u001b[0m\u001b[0;34m\u001b[0m\u001b[0m\n\u001b[1;32m     21\u001b[0m \u001b[0;32mfinally\u001b[0m\u001b[0;34m:\u001b[0m\u001b[0;34m\u001b[0m\u001b[0m\n\u001b[0;32m---> 22\u001b[0;31m     \u001b[0mfp\u001b[0m\u001b[0;34m.\u001b[0m\u001b[0mclose\u001b[0m\u001b[0;34m(\u001b[0m\u001b[0;34m)\u001b[0m\u001b[0;34m\u001b[0m\u001b[0m\n\u001b[0m\u001b[1;32m     23\u001b[0m     \u001b[0mport\u001b[0m\u001b[0;34m.\u001b[0m\u001b[0mclose\u001b[0m\u001b[0;34m(\u001b[0m\u001b[0;34m)\u001b[0m\u001b[0;34m\u001b[0m\u001b[0m\n\u001b[1;32m     24\u001b[0m     \u001b[0;32mprint\u001b[0m\u001b[0;34m(\u001b[0m\u001b[0;34m\"stop\"\u001b[0m\u001b[0;34m)\u001b[0m\u001b[0;34m\u001b[0m\u001b[0m\n",
      "\u001b[0;31mNameError\u001b[0m: name 'fp' is not defined"
     ]
    }
   ],
   "source": [
    "import serial\n",
    "import time\n",
    "\n",
    "acqtime = 10\n",
    "\n",
    "try:\n",
    "    port = serial.Serial('<SERIAL PORT OF YOUR ARDUINO>',115200)\n",
    "    port.flushInput()\n",
    "    \n",
    "    fp = open(\"data.txt\", \"w\")\n",
    "    \n",
    "    print(port.name)\n",
    "    \n",
    "    t = time.time()\n",
    "    while (time.time()-t) <= acqtime:\n",
    "        data = port.readline()\n",
    "        print(data.strip())\n",
    "        fp.write(data)\n",
    "except:\n",
    "    print(\"error\")\n",
    "finally:\n",
    "    fp.close()    \n",
    "    port.close()\n",
    "    print(\"stop\")\n"
   ]
  },
  {
   "cell_type": "markdown",
   "metadata": {},
   "source": [
    "<div style=\"background:#fada5e;font-family:'arial', monospace; text-align: center; padding: 10px 0; border-radius:10px; width:70%; margin:auto \" >\n",
    "  <span style=\"font-size:20px;position:relative;color:white; \">  Warning! </span> <br>\n",
    "  <div style=\"background:#fff3c4;font-size:12px\"> \n",
    "    The serial port can only be accessed by a single application at any given time, which means that, to acquire data in your Python script, the Arduino serial monitor needs to be closed (and vice versa). THIS FEATURE IS NOT AVAILABLE FOR THE EMULATOR.\n",
    "\n",
    "</div>\n",
    "</div>"
   ]
  },
  {
   "cell_type": "markdown",
   "metadata": {},
   "source": [
    "# III. Explore\n",
    "<br>\n",
    "<div class='h1'  style=\"width:100%; background:#00a0e4;color:#282828;font-family:'arial black'; text-align: center; padding: 7px 0; border-radius: 5px 50px;margin-top:-15px\" > </div>"
   ]
  },
  {
   "cell_type": "markdown",
   "metadata": {},
   "source": [
    "## <div style=\"color:#00a0e4\">  1. Quizz </div>"
   ]
  },
  {
   "cell_type": "markdown",
   "metadata": {},
   "source": [
    "1) Modify your firmware so that, in addition to sampling and streaming the analog inputs, your Arduino works as a square waveform generator with [0; Vcc] amplitude, 50% duty cycle, and 1Hz frequency. You can sample the waveform by connecting the output pin to one of the analog inputs streamed by your firmware (e.g. A0).\n",
    "\n",
    "\n",
    "2) Modify your experimental setup so that the output waveform amplitude is [0; Vcc/2], and the frequency can be adjusted through a command sent via the serial port (e.g. F5 would produce a 5Hz square wave). Test your setup for different waveform frequencies (in particular 100Hz) and discuss your results.\n",
    "\n",
    "\n",
    "3) Devise a 3-bit circuit considering the R-2R resistor ladder network (in the following Figure), and characterize the expected behavior, namely the number of steps, step size, output voltages for each step, and other details that you may find relevant.\n",
    "\n",
    "<img src=\"https://github.com/PIA-Group/ScientIST-notebooks/blob/master/_Resources/Images/A.Signal_Acquisition_IMG/a014/R-2R.png?raw=true\" width=\"600\" border=\"0\">\n",
    "        \n",
    "<center>R-2R resistor ladder (image by \n",
    "<a href=\"https://en.wikipedia.org/wiki/Resistor_ladder#/media/File:R2r-ladder.png\">Lsibilla </a>).</center>\n",
    "\n",
    "\n",
    "4) Using the circuit devised in the previous question, create a firmware that outputs a sawtooth waveform with positive ramp. Present and discuss your experimental findings based on parameters of your choice. The following code is provided as a starting point.\n"
   ]
  },
  {
   "cell_type": "markdown",
   "metadata": {},
   "source": [
    "```C\n",
    "\n",
    "const byte TS = 100;  // Sampling period\n",
    "const byte a0 = 5;    // LSB in\n",
    "const byte NBITS = 3; // Number of bits\n",
    "\n",
    "byte data = 0;        // Output value\n",
    "byte mask = 1;\n",
    "byte pin;\n",
    "byte maxCode = 1;\n",
    "\n",
    "void setup()\n",
    "{ \n",
    "\tSerial.begin(115200);\n",
    "    for (pin = a0; pin < (a0+NBITS); pin++) {\n",
    "\t\tpinMode(pin, OUTPUT);\n",
    "        maxCode *= 2;\n",
    "    }\n",
    "}\n",
    "\n",
    "void loop()\n",
    "{\n",
    "    mask = 1;\n",
    "    pin = a0;\n",
    "    \n",
    "    for (mask=001; mask>0; mask<<=1) { // Iterate through bit mask\n",
    "      if (data & mask) digitalWrite(pin,HIGH);\n",
    "      else digitalWrite(pin,LOW);\n",
    "      \n",
    "      pin++;\n",
    "      Serial.println(analogRead(A0));\n",
    "    }\n",
    "  \n",
    "    (data == maxCode ? data = 0 : data++);\n",
    "  \n",
    "    delay(TS);\n",
    "  \n",
    "}\n",
    "```"
   ]
  },
  {
   "cell_type": "markdown",
   "metadata": {},
   "source": [
    "## <div style=\"color:#00a0e4\">  2. References </div>"
   ]
  },
  {
   "cell_type": "markdown",
   "metadata": {},
   "source": [
    "1. https://www.tinkercad.com/dashboard?type=circuits&collection=designs\n",
    "2. https://www.arduino.cc/reference/tr/language/structure/bitwise-operators/bitwiseand/ \n",
    "3. https://www.arduino.cc/reference/tr/language/structure/bitwise-operators/bitshiftleft/  \n",
    "4. https://en.wikipedia.org/wiki/%3F:#C "
   ]
  },
  {
   "cell_type": "markdown",
   "metadata": {},
   "source": [
    "<div style=\"height:100px; background:white;border-radius:10px;text-align:center\"> \n",
    "\n",
    "<a> <img src=\"https://github.com/PIA-Group/ScientIST-notebooks/blob/master/_Resources/Images/IT.png?raw=true\" alt=\"it\" style=\" bottom: 0; width:250px;\n",
    "    display: inline;\n",
    "    left: 250px;\n",
    "    position: absolute;\"/> </a>\n",
    "<img src=\"https://github.com/PIA-Group/ScientIST-notebooks/blob/master/_Resources/Images/IST.png?raw=true\"\n",
    "         alt=\"alternate text\" \n",
    "         style=\"position: relative;   width:250px; float: left;\n",
    "    position: absolute;\n",
    "    display: inline;\n",
    "    bottom: 0;\n",
    "    right: 100;\"/>\n",
    "</div>  "
   ]
  },
  {
   "cell_type": "markdown",
   "metadata": {},
   "source": [
    "<div style=\"width: 100%; \">\n",
    "<div style=\"background:#00a0e4;color:white;font-family:'arial', monospace; text-align: center; padding: 50px 0; border-radius:10px; height:10px; width:100%; float:left \" >\n",
    "<span style=\"font-size:12px;position:relative; top:-25px\">  Please provide us your feedback <span style=\"font-size:14px;position:relative;COLOR:WHITE\"> <a href=\"https://forms.gle/C8TdLQUAS9r8BNJM8\">here</a>.</span></span> \n",
    "<br>\n",
    "<span style=\"font-size:17px;position:relative; top:-20px\">  Suggestions are welcome! </span> \n",
    "</div>"
   ]
  },
  {
   "cell_type": "markdown",
   "metadata": {},
   "source": [
    "```Contributors: Prof. Hugo Plácido da Silva; Joana Pinto```"
   ]
  }
 ],
 "metadata": {
  "kernelspec": {
   "display_name": "Python 2",
   "language": "python",
   "name": "python2"
  },
  "language_info": {
   "codemirror_mode": {
    "name": "ipython",
    "version": 2
   },
   "file_extension": ".py",
   "mimetype": "text/x-python",
   "name": "python",
   "nbconvert_exporter": "python",
   "pygments_lexer": "ipython2",
   "version": "2.7.9"
  }
 },
 "nbformat": 4,
 "nbformat_minor": 4
}
