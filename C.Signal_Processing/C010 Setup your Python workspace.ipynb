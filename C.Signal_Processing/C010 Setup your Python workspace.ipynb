{
 "cells": [
  {
   "cell_type": "markdown",
   "metadata": {},
   "source": [
    " # <div  style=\"color:#303030;font-family:'arial blACK', sans-serif,monospace; text-align: center; padding: 50px 0; vertical-align:middle;\" > <img src=\"https://www.nicepng.com/png/full/204-2043038_white-lightbulb-icon-light-bulb-icon-white.png\" style=\" background:#00a0e4;border-radius:10px;width:150px;text-align:left; margin-left:10%\"  /> <span style=\"position:relative; bottom:70px; margin-left:5%\">    Setup your Python Workspace </span> </div>"
   ]
  },
  {
   "cell_type": "markdown",
   "metadata": {},
   "source": [
    "## <span style=\"color:#00a0e4;\"> Keywords: </span>"
   ]
  },
  {
   "cell_type": "markdown",
   "metadata": {},
   "source": [
    "```Python```, ```Anaconda Navigator```, ```Jupyter Notebooks```, ```IPython```, ```Spyder```"
   ]
  },
  {
   "cell_type": "markdown",
   "metadata": {},
   "source": [
    "# I. Introduction\n",
    "<br>\n",
    "<div style=\"width:100%; background:#00a0e4;font-family:'arial black',monospace; text-align: center; padding: 7px 0; border-radius: 5px 50px;margin-top:-15px\" >  </div>"
   ]
  },
  {
   "cell_type": "markdown",
   "metadata": {},
   "source": [
    "## <div style=\"color:#00a0e4;\"> 1. Background</div>\n"
   ]
  },
  {
   "cell_type": "markdown",
   "metadata": {},
   "source": [
    "[Python](https://www.python.org/) is a well-known programming language that primes for its simplicity (relatively easy to learn and use), for the \"batteries-included\" philosophy and for its numerous applications on different fields. The large number of development environment options, and diversity of useful packages is often overwhelming, which has lead to the creation of pre-configured distributions targeted at simplifying the initial package management and deployment.\n",
    "\n",
    "This notebook aims at guiding you through the setup of a development environment. In particular, we describe the Anaconda Python (https://docs.anaconda.com/anaconda) distribution designed for scientific computing using a local installation, and the cloud-based Binder (https://mybinder.org/) environment that can be used directly from a web browser.\n",
    "\n",
    "Furthermore, targeting some of the specific requirements of biomedical signal acquisition, processing, and analytics, we describe how to expand the default Anaconda Python environment with some convenient packages such as BioSPPy and pySerial.\n",
    "\n"
   ]
  },
  {
   "cell_type": "markdown",
   "metadata": {},
   "source": [
    "## <div style=\"color:#00a0e4;\"> 2. Objectives </div>\n",
    " \n",
    "* Understand the advantages of working in a Python environment;\n",
    "* Get acquainted with Binder and the Anaconda Navigator plus its most relevant environments; \n",
    "* Enable an overview of different methods to install the packages coupled with a short description of some of them;\n",
    "* Setup a Python environment targeted at biomedical signal acquisition and processing.\n"
   ]
  },
  {
   "cell_type": "markdown",
   "metadata": {},
   "source": [
    "# II. Experimental\n",
    "<br>\n",
    "<div style=\"width:100%; background:#00a0e4;color:#282828;font-family:'arial black'; text-align: center; padding: 7px 0; border-radius: 5px 50px; margin-top:-15px\" > </div>"
   ]
  },
  {
   "cell_type": "markdown",
   "metadata": {},
   "source": [
    "Python is a high-level programming language which excels for its simple and clean syntax. This is not only beneficial when it comes to readibility and therefore enabling the reduce of the expenses of program maintenance, but also for being an easy to learn programming language. Additionally, it appears to be more and more an attractive language for application development and scripting due to its open source nature. \n",
    "\n",
    "This is a simple example of a program which sums all the digits of a number using a Jupyter Notebook."
   ]
  },
  {
   "cell_type": "code",
   "execution_count": 6,
   "metadata": {},
   "outputs": [
    {
     "data": {
      "text/plain": [
       "20"
      ]
     },
     "execution_count": 6,
     "metadata": {},
     "output_type": "execute_result"
    }
   ],
   "source": [
    "def add_digits (n):\n",
    "    if n<10:\n",
    "        return n\n",
    "    else:\n",
    "        return add_digits(n//10)+n%10\n",
    "add_digits(1568)"
   ]
  },
  {
   "cell_type": "markdown",
   "metadata": {},
   "source": [
    "Comparatively to other languages, Python is particularly appealing for scientific computing. Alternatives include **MATLAB**, **GNU Octave** and **R**; let's analyse them one by one."
   ]
  },
  {
   "cell_type": "markdown",
   "metadata": {},
   "source": [
    "[**MATLAB**](https://www.mathworks.com/products/matlab.html) is vastly used by scientists and engineers since it allows, amonst other features, to **analyse data** and to **develop algorithms** with a high-level programming language that expresses matrix and array mathematics directly. It also includes a broad library of toolboxes enabling signal and image processing.\n",
    "\n",
    "<a href=\"https://ibb.co/p4W5hfg\"><img src=\"https://i.ibb.co/MP8QBcb/Matlab.png\" alt=\"Matlab\" border=\"0\" width=400></a>\n",
    "\n",
    "However, MATLAB requires a **paid** license and extra toolboxes are also charged. This limitates the scalability and deployment of projects since only people with a license are able to run them. Besides, it is a **closed-source** software, developed exclusively by Mathworks; would the company to run out of business or change its business models to be more restrictive (financially or otherwise), MATLAB projects would eventually stop functioning.\n",
    "\n",
    "Python on the other hand is a **free**, **open-source** software. This is highly beneficial since anyone in the world can download, read and develop it allowing a much larger range of users.\n",
    "\n"
   ]
  },
  {
   "cell_type": "markdown",
   "metadata": {},
   "source": [
    "<div style=\"background:#62d321;font-family:'arial', monospace; text-align: center; padding: 10px 0; border-radius:10px; width:70%; margin:auto \" >\n",
    "  <span style=\"font-size:20px;position:relative;color:white; \"> Explore </span> <br>\n",
    "  <div style=\"background:#c5e8b0;font-size:12px\"> \n",
    "    To learn more about the differences between MATLAB and Python, visit [MATLAB vs Python](https://realpython.com/matlab-vs-python/#matlab-vs-python-comparing-features-and-philosophy).\n",
    "</div>"
   ]
  },
  {
   "cell_type": "markdown",
   "metadata": {},
   "source": [
    "[**GNU Octave**](https://www.gnu.org/software/octave/) is a high-level programming language mainly **mathematics-oriented**, suitable for solving equations, numerical linear algebra, statistical analysis and more. It includes a code editor with syntax highlighting as well as the interpreter for the language itself. It is mostly compatible with MATLAB, and often accoladed as an open-source version of the latter.\n",
    "\n",
    "<a href=\"https://ibb.co/pykbgRN\"><img src=\"https://i.ibb.co/vYMVbQf/octave.jpg\" alt=\"octave\" border=\"0\" width=400></a>\n",
    "\n",
    "Even so, Python is a more mainstream solution, hence a better option for a more **general use**. Aside from that, it presents an **object-oriented** programming style, **dynamic typing** and **high-level data types**, increasing its readability and accessibility for beginners."
   ]
  },
  {
   "cell_type": "markdown",
   "metadata": {},
   "source": [
    "<div style=\"background:#62d321;font-family:'arial', monospace; text-align: center; padding: 10px 0; border-radius:10px; width:70%; margin:auto \" >\n",
    "  <span style=\"font-size:20px;position:relative;color:white; \"> Explore </span> <br>\n",
    "  <div style=\"background:#c5e8b0;font-size:12px\"> \n",
    "    To learn more about the differences between GNU Octave and Python, visit [GNU Octave vs Python](https://stackshare.io/stackups/octave-vs-python).\n",
    "</div>"
   ]
  },
  {
   "cell_type": "markdown",
   "metadata": {},
   "source": [
    "[R](https://www.r-project.org/) is a software environment mostly oriented for **statistical computing** and **graphics**. It has an open-source repository with thousands of packages which play a crucial part in data analysis.\n",
    "\n",
    "<a href=\"https://ibb.co/mRz7Kmj\"><img src=\"https://i.ibb.co/Twh5GZf/R.jpg\" alt=\"R\" border=\"0\" width=400></a>\n",
    "\n",
    "R is built by statisticians and contains their specific language. Once more, Python appears to be a more general language, plus its codes are easier to maintain and are more robust than R's."
   ]
  },
  {
   "cell_type": "markdown",
   "metadata": {},
   "source": [
    "<div style=\"background:#62d321;font-family:'arial', monospace; text-align: center; padding: 10px 0; border-radius:10px; width:70%; margin:auto \" >\n",
    "  <span style=\"font-size:20px;position:relative;color:white; \"> Explore </span> <br>\n",
    "  <div style=\"background:#c5e8b0;font-size:12px\"> \n",
    "    To learn more about the differences between R and Python, visit [R vs Python](https://www.guru99.com/r-vs-python.html).\n",
    "</div>"
   ]
  },
  {
   "cell_type": "markdown",
   "metadata": {},
   "source": [
    "One could point out another advantage of utilizing Python as being the fact that its modules are organized in packages within libraries. This system is very usefull since it enables the programmer to choose a specific package accordingly to the necessity of the program in development. The point 2 of the next section will present some of the most relevant packages."
   ]
  },
  {
   "cell_type": "markdown",
   "metadata": {},
   "source": [
    "<div style=\"background:#00bfc2;font-family:'arial', monospace; text-align: center; padding: 10px 0; border-radius:10px; width:70%; margin:auto \" >\n",
    "  <span style=\"font-size:20px;position:relative;color:white; \">  Note </span> <br>\n",
    "  <div style=\"background:#9eddde;font-size:12px\"> \n",
    "    The book [A Primer on Scientific Programming with Python](https://www.springer.com/gp/book/9783662498866) serves as a first introduction to computer programming of scientific applications using Python.     \n",
    "</div>"
   ]
  },
  {
   "cell_type": "markdown",
   "metadata": {},
   "source": [
    "# III. Interfaces for Python Programming\n",
    "<br>\n",
    "<div style=\"width:100%; background:#00a0e4;color:#282828;font-family:'arial black'; text-align: center; padding: 7px 0; border-radius: 5px 50px; margin-top:-15px\" > </div>"
   ]
  },
  {
   "cell_type": "markdown",
   "metadata": {},
   "source": [
    "In order to develop and run Python code, there are a number of options ranging from high-level virtualized environment, to command-line shells. Let's explore different possible interfaces to run Python programs. "
   ]
  },
  {
   "cell_type": "markdown",
   "metadata": {},
   "source": [
    "## <span style=\"color:#00a0e4;\"> Binder </span>"
   ]
  },
  {
   "cell_type": "markdown",
   "metadata": {},
   "source": [
    "This is an online service that allows the users to **access** and **run** their notebooks from a repository without any additional download. \n",
    "\n",
    "The most common way of making a repository is through [GitHub](https://docs.github.com/en/free-pro-team@latest/github/getting-started-with-github/quickstart), which is a static tool for **sharing** and **organizing** code documents in, as mentioned before, repositories. In order to interact with the code in it, one has to access a platform capable of so. Binder appears to be the perfect ally as it enables browsing through an existing repository of Jupyter notebooks (see Section 1.3) directly on a web browser.\n",
    "\n",
    "\n",
    "In order to upload a GitHub repository, one ony has to get its URL and paste it on [Binder](https://mybinder.org/). Afterwards, click on \"launch\" and wait untill it's uploaded. The Jupyter Notebook setup will appear.\n",
    "\n",
    "<a href=\"https://imgbb.com/\"><img src=\"https://i.ibb.co/WD8wTC7/Binder.gif\" alt=\"Binder\" border=\"0\" width=700></a>"
   ]
  },
  {
   "cell_type": "markdown",
   "metadata": {},
   "source": [
    "<div style=\"background:#62d321;font-family:'arial', monospace; text-align: center; padding: 10px 0; border-radius:10px; width:70%; margin:auto \" >\n",
    "  <span style=\"font-size:20px;position:relative;color:white; \"> Explore </span> <br>\n",
    "  <div style=\"background:#c5e8b0;font-size:12px\"> \n",
    "    [Binder documentation](https://github.com/alan-turing-institute/the-turing-way/blob/master/workshops/boost-research-reproducibility-binder/workshop-presentations/zero-to-binder-python.md) may be helpful to further explore this tool.\n",
    "</div>"
   ]
  },
  {
   "cell_type": "markdown",
   "metadata": {},
   "source": [
    "## <span style=\"color:#00a0e4;\"> Anaconda Navigator </span>"
   ]
  },
  {
   "cell_type": "markdown",
   "metadata": {},
   "source": [
    "The Anaconda Navigator is a **graphical interface** to facilitate the management of Python packages and environments and allow easy access to useful developer applications. It has proven to be very useful since it provides thousands of **science and machine learning packages** through a central cloud-based repository. Furthermore, it presents multiple **data management environments** capable of being run separately without interfering with each other.\n"
   ]
  },
  {
   "cell_type": "markdown",
   "metadata": {},
   "source": [
    "### <div style=\"color:#00a0e4\">  1. Installation and Environments </div>"
   ]
  },
  {
   "cell_type": "markdown",
   "metadata": {},
   "source": [
    "Installing the Anaconda Navigator requires just a few steps. The download website is\n",
    "[Anaconda](https://www.anaconda.com/products/individual). "
   ]
  },
  {
   "cell_type": "markdown",
   "metadata": {},
   "source": [
    "<a href=\"https://ibb.co/rxmsNR5\"><img src=\"https://i.ibb.co/k4x1vsq/Install-Anaconda.png\" alt=\"Install-Anaconda\" border=\"0\" width=700></a>"
   ]
  },
  {
   "cell_type": "markdown",
   "metadata": {},
   "source": [
    "Once having reached this point, one may choose the most suitable version, considering the operating system and capacity.\n",
    "\n",
    "After installation, this is what the navigator will look like."
   ]
  },
  {
   "cell_type": "markdown",
   "metadata": {},
   "source": [
    "<a href=\"https://ibb.co/fHCF84P\"><img src=\"https://i.ibb.co/9WqgwsC/anaconda-nav.png\" alt=\"anaconda-nav\" border=\"0\" ></a>"
   ]
  },
  {
   "cell_type": "markdown",
   "metadata": {},
   "source": [
    "One may notice there are different applications that can be selected from here. Let's analyse some of them in detail."
   ]
  },
  {
   "cell_type": "markdown",
   "metadata": {},
   "source": [
    "#### <div style=\"color:#00a0e4\">   1.1. QtConsole  </div>"
   ]
  },
  {
   "cell_type": "markdown",
   "metadata": {},
   "source": [
    "The QtConsole covers, amongst other aspects, media output, multiline editing with syntax highlighting and graphical calltips. All of this is possible due to the existence of a IPython command-line interface.\n",
    "\n",
    "\n",
    "It gives the sense of a terminal which confers a plain, simple environment to the user in addition to being able to use any Python kernel. The image below displays an ECG signal produced using *neurokit2* on the IPython kernel (example from [neurokit2 site](https://neurokit2.readthedocs.io/en/latest/examples/simulation.html))."
   ]
  },
  {
   "cell_type": "markdown",
   "metadata": {},
   "source": [
    "<a href=\"https://ibb.co/Zfv2kKD\"><img src=\"https://i.ibb.co/mRdNMtW/QTConsole-ECG.png\" alt=\"QTConsole-ECG\" border=\"0\"></a>"
   ]
  },
  {
   "cell_type": "markdown",
   "metadata": {},
   "source": [
    "IPython contains embedded interpreters for multiple programming languages, providing high performance tools for computing. It also supports interactive data visualization."
   ]
  },
  {
   "cell_type": "markdown",
   "metadata": {},
   "source": [
    "<div style=\"background:#62d321;font-family:'arial', monospace; text-align: center; padding: 10px 0; border-radius:10px; width:70%; margin:auto \" >\n",
    "  <span style=\"font-size:20px;position:relative;color:white; \"> Explore </span> <br>\n",
    "  <div style=\"background:#c5e8b0;font-size:12px\"> \n",
    "    To learn more about QtConsole funtionalities, visit [QtConsole](https://qtconsole.readthedocs.io/en/stable/).\n",
    "</div>"
   ]
  },
  {
   "cell_type": "markdown",
   "metadata": {},
   "source": [
    "#### <div style=\"color:#00a0e4\">   1.2. Spyder  </div>"
   ]
  },
  {
   "cell_type": "markdown",
   "metadata": {},
   "source": [
    "Amongst the most important Spyder features are the advanced editing, code analysis and the possibility to trace each step of your code's execution in order to debug efficiently due to its automatic syntax highlighting. It is most suitable for local development and low-level programming. Spyder provides an Integrated Development Environment (IDE) to facilitate programming of more complex software.\n",
    "\n",
    "\n",
    "It is divided in three main compartments:\n",
    "- the **Editor**, where you can open, create and edit a source file.\n",
    "- the **Console**, where you can interact directly with the Python backend and see execution results for the Editor's code.\n",
    "- the **Help panel**, where the documentation for the objects you are using in the Editor or the IPython Console is shown.\n"
   ]
  },
  {
   "cell_type": "markdown",
   "metadata": {},
   "source": [
    "<img src=\"https://i.ibb.co/yypK69s/Spyder.png\" alt=\"Spyder\" border=\"0\" width=750></a>"
   ]
  },
  {
   "cell_type": "markdown",
   "metadata": {},
   "source": [
    "When it comes to graphics, Spyder by default presents them inline within the interactive console. It is possible to change this configuration to make the graphic appear on a separate window. This can be much useful to edit the plot, zoom it and even save it separately.\n",
    "\n",
    "It can be configured by accessing the **Spyder Preferences > IPython Console > Graphics pane** and in the **Backend** option selecting **Automatic**. You will need to relaunch Spyder in order to take effect."
   ]
  },
  {
   "cell_type": "markdown",
   "metadata": {},
   "source": [
    "<a href=\"https://imgbb.com/\"><img src=\"https://i.ibb.co/BZY5XBK/ezgif-com-gif-maker-1.gif\" alt=\"ezgif-com-gif-maker-1\" border=\"0\" width=800></a>"
   ]
  },
  {
   "cell_type": "markdown",
   "metadata": {},
   "source": [
    "<div style=\"background:#62d321;font-family:'arial', monospace; text-align: center; padding: 10px 0; border-radius:10px; width:70%; margin:auto \" >\n",
    "  <span style=\"font-size:20px;position:relative;color:white; \"> Explore </span> <br>\n",
    "  <div style=\"background:#c5e8b0;font-size:12px\"> \n",
    "    To learn more about Spyder funtionalities, visit [Spyder](https://docs.spyder-ide.org/current/index.html).\n",
    "</div>"
   ]
  },
  {
   "cell_type": "markdown",
   "metadata": {},
   "source": [
    "<div style=\"background:#00bfc2;font-family:'arial', monospace; text-align: center; padding: 10px 0; border-radius:10px; width:70%; margin:auto \" >\n",
    "  <span style=\"font-size:20px;position:relative;color:white; \">  Note </span> <br>\n",
    "  <div style=\"background:#9eddde;font-size:12px\"> \n",
    "       PyCharm is also a widely used Python IDE (Integrated Development Environment) designed with a smart code editor most suitable for high-level programming. It's a possible alternative to Spyder. For more information regarding PyCharm, visit [https://www.jetbrains.com/pycharm/](https://www.jetbrains.com/pycharm/)\n",
    "\n",
    "</div>"
   ]
  },
  {
   "cell_type": "markdown",
   "metadata": {},
   "source": [
    "#### <div style=\"color:#00a0e4\">   1.4. Jupyter Notebook  </div>"
   ]
  },
  {
   "cell_type": "markdown",
   "metadata": {},
   "source": [
    "Jupyter Notebook is a web-based interactive computing environment. It displays the input and output of a Python script, allowing the programmer to write not only code, but also narrative text, produce graphics and more. As the name suggests, it provides the sensation of a true notebook.\n",
    "\n",
    "When opening the Jupyter Notebook, you'll find the folders on your computer. You may choose a Notebook to open or create a new one using the \"New\" button on the top right, as shown is the gif below."
   ]
  },
  {
   "cell_type": "markdown",
   "metadata": {},
   "source": [
    "<img src=\"https://i.ibb.co/5xCC1fC/Jupyter-notebook.gif\" alt=\"Jupyter-notebook\" border=\"0\" width=700></a>"
   ]
  },
  {
   "cell_type": "markdown",
   "metadata": {},
   "source": [
    "Working on a Jupyter Notebook can be largely advantageous education-wise since it displays your code and results in a sole document plus it allows the user to run cell by cell in order to obtain a better understanding of what each one does.\n",
    "\n",
    "However on a high-level programming context it could fall behind other environments, as its structure is more suitable for tutorial-like resources and not as much for tasks such as batch processing of data."
   ]
  },
  {
   "cell_type": "markdown",
   "metadata": {},
   "source": [
    "<div style=\"background:#62d321;font-family:'arial', monospace; text-align: center; padding: 10px 0; border-radius:10px; width:70%; margin:auto \" >\n",
    "  <span style=\"font-size:20px;position:relative;color:white; \"> Explore </span> <br>\n",
    "  <div style=\"background:#c5e8b0;font-size:12px\"> \n",
    "    To learn more about Jupyter Notebook funtionalities, visit [Jupyter Notebook](https://jupyter.readthedocs.io/en/latest/running.html).\n",
    "</div>"
   ]
  },
  {
   "cell_type": "markdown",
   "metadata": {},
   "source": [
    "### <div style=\"color:#00a0e4\">  2. Packages and Libraries </div>"
   ]
  },
  {
   "cell_type": "markdown",
   "metadata": {},
   "source": [
    "Packages are a very practical tool for numerous purposes. In order to install them, two main options can be used.\t\n",
    "\n",
    "**1. Python Package Index (PyPI)**\n",
    "PyPI is a repository of software for the Python programming language. It enables an easy access to packages shared by the Python Community. \n",
    "\n",
    " **pip** is the package installer which usually is automatically installed with Python. One has to only make sure it is updated, in which case the website [pip update](https://datatofish.com/upgrade-pip/) is very illustrative.\n",
    " \n",
    "Installing a package only takes writing:"
   ]
  },
  {
   "cell_type": "code",
   "execution_count": 7,
   "metadata": {},
   "outputs": [
    {
     "name": "stdout",
     "output_type": "stream",
     "text": [
      "Collecting package_name\n",
      "  Downloading package_name-0.1.tar.gz (782 bytes)\n",
      "Building wheels for collected packages: package-name\n",
      "  Building wheel for package-name (setup.py): started\n",
      "  Building wheel for package-name (setup.py): finished with status 'done'\n",
      "  Created wheel for package-name: filename=package_name-0.1-py3-none-any.whl size=1272 sha256=ec3d6d643941ab750fb2d08477fae86b6bcb1f0a22d05db7a25a0b1f94ae3932\n",
      "  Stored in directory: c:\\users\\asus\\appdata\\local\\pip\\cache\\wheels\\15\\6f\\9d\\b3c9f8b85e90c325a8daaae5fde28dbb1ddaba801de43875ae\n",
      "Successfully built package-name\n",
      "Installing collected packages: package-name\n",
      "Successfully installed package-name-0.1\n"
     ]
    }
   ],
   "source": [
    "!pip install package_name"
   ]
  },
  {
   "cell_type": "markdown",
   "metadata": {},
   "source": [
    "**2.** The Anaconda Navigator **Environments** tab has the list of every installed and uninstalled package plus it is possible to install them, as ilustrated:\n"
   ]
  },
  {
   "cell_type": "markdown",
   "metadata": {},
   "source": [
    "\n",
    "\n",
    "<img src=\"https://i.ibb.co/vjYJS1n/Install-packages.gif\" alt=\"Install-packages\" border=\"0\" width=\"700\" /></a>"
   ]
  },
  {
   "cell_type": "markdown",
   "metadata": {},
   "source": [
    "### <span style=\"color:#00a0e4;\"> Scientific Computing Libraries </span>"
   ]
  },
  {
   "cell_type": "markdown",
   "metadata": {},
   "source": [
    "#### <div style=\"color:#00a0e4\">   2.1. Matplotlib  </div>"
   ]
  },
  {
   "cell_type": "markdown",
   "metadata": {},
   "source": [
    "*Matplotlib* is a comprehensive library broadly used for producing **static, animated and interactive representations** in Python including plots, histograms, bar charts, etc.. It can be used in various environments, such as Python scripts, the Python and IPython shells and the Jupyter notebook.\n",
    "\n",
    "To properly utilize this library, here are some key steps to get started."
   ]
  },
  {
   "cell_type": "code",
   "execution_count": 8,
   "metadata": {
    "scrolled": true
   },
   "outputs": [
    {
     "data": {
      "text/plain": [
       "<matplotlib.legend.Legend at 0x108f718>"
      ]
     },
     "execution_count": 8,
     "metadata": {},
     "output_type": "execute_result"
    },
    {
     "data": {
      "image/png": "[encoded data removed]",
      "text/plain": [
       "<Figure size 432x288 with 1 Axes>"
      ]
     },
     "metadata": {
      "needs_background": "light"
     },
     "output_type": "display_data"
    }
   ],
   "source": [
    "import matplotlib.pyplot as plt\n",
    "import matplotlib.patches as mpatches\n",
    "import numpy as np       #this library will be further explored in the next section\n",
    "\n",
    "t = np.arange(0.0, 2*np.pi, 0.01) #timeline we want to plot\n",
    "\n",
    "plt.grid(True)          \n",
    "\n",
    "plt.title('Plot Example',{'size':15})  \n",
    "plt.xlabel('Time (s)', color=\"#00a0e4\")\n",
    "\n",
    "plt.annotate('local max', xy=(1.5, 1), xytext=(2, 1.5), arrowprops=dict(facecolor='black', shrink=0.05),) #arrow that points to a local maximum\n",
    "\n",
    "plt.axis([0,2*np.pi,-1-0.1,1+0.1]) #receives as argument [xmin,xmax,ymin,ymax]\n",
    "\n",
    "plt.plot(t, np.sin(t),label='Sine', color=\"#00bfc2\") \n",
    "\n",
    "plt.plot(t, np.cos(t),label='Cosine', color=\"#5756d6\") \n",
    "plt.legend()"
   ]
  },
  {
   "cell_type": "code",
   "execution_count": 9,
   "metadata": {},
   "outputs": [
    {
     "data": {
      "text/plain": [
       "<function matplotlib.pyplot.show(close=None, block=None)>"
      ]
     },
     "execution_count": 9,
     "metadata": {},
     "output_type": "execute_result"
    },
    {
     "data": {
      "text/plain": [
       "<Figure size 432x288 with 0 Axes>"
      ]
     },
     "metadata": {},
     "output_type": "display_data"
    },
    {
     "data": {
      "image/png": "[encoded data removed]",
      "text/plain": [
       "<Figure size 1440x288 with 2 Axes>"
      ]
     },
     "metadata": {
      "needs_background": "light"
     },
     "output_type": "display_data"
    }
   ],
   "source": [
    "Age = ['0-25','25-50','+50']\n",
    "Data =[10, 23, 16]\n",
    "\n",
    "plt.suptitle('Bar chart and plot example') \n",
    "\n",
    "plt.figure(figsize=(20, 4))\n",
    "plt.subplot(131)\n",
    "plt.bar(Age, Data,color=\"#00bfc2\")\n",
    "plt.xlabel('Age group', color=\"#00a0e4\")\n",
    "plt.ylabel('Number of individuals', color=\"#00a0e4\")\n",
    "\n",
    "\n",
    "plt.subplot(132)\n",
    "plt.plot(Age,Data,color=\"#5756d6\")\n",
    "plt.xlabel('Age group', color=\"#00a0e4\")\n",
    "plt.ylabel('Number of individuals', color=\"#00a0e4\")\n",
    "plt.show"
   ]
  },
  {
   "cell_type": "markdown",
   "metadata": {},
   "source": [
    "<div style=\"background:#62d321;font-family:'arial', monospace; text-align: center; padding: 10px 0; border-radius:10px; width:70%; margin:auto \" >\n",
    "  <span style=\"font-size:20px;position:relative;color:white; \"> Explore </span> <br>\n",
    "  <div style=\"background:#c5e8b0;font-size:12px\"> \n",
    "    To learn more about Matplotlib funtionalities, visit [Matplotlib](https://matplotlib.org/index.html).\n",
    "</div>"
   ]
  },
  {
   "cell_type": "markdown",
   "metadata": {},
   "source": [
    "#### <div style=\"color:#00a0e4\">   2.2. NumPy  </div>"
   ]
  },
  {
   "cell_type": "markdown",
   "metadata": {},
   "source": [
    "*NumPy* is an easy-to-use, efficient tool for scientific computing.\n",
    "For instance, it offers:\n",
    "* a **N-dimensional array** object;\n",
    "* sophisticated **mathematical functions**;\n",
    "* **linear algebra** and **random number** capabilities.\n",
    "\n",
    "Let's visualize some of its operations."
   ]
  },
  {
   "cell_type": "code",
   "execution_count": 10,
   "metadata": {},
   "outputs": [
    {
     "data": {
      "text/plain": [
       "array([[1, 2, 3],\n",
       "       [4, 5, 6]])"
      ]
     },
     "execution_count": 10,
     "metadata": {},
     "output_type": "execute_result"
    }
   ],
   "source": [
    "import numpy as np\n",
    "np.array([[1,2,3],[4,5,6]])"
   ]
  },
  {
   "cell_type": "code",
   "execution_count": 11,
   "metadata": {},
   "outputs": [
    {
     "data": {
      "text/plain": [
       "72"
      ]
     },
     "execution_count": 11,
     "metadata": {},
     "output_type": "execute_result"
    }
   ],
   "source": [
    "np.random.randint(100) #Everytime you run this code, a different integer up to, but not including, 100  will appear."
   ]
  },
  {
   "cell_type": "code",
   "execution_count": 12,
   "metadata": {
    "scrolled": false
   },
   "outputs": [
    {
     "data": {
      "text/plain": [
       "(array([[ 0,  1,  2,  3],\n",
       "        [ 4,  5,  6,  7],\n",
       "        [ 8,  9, 10, 11]]),\n",
       " array([[False, False, False, False],\n",
       "        [False,  True,  True,  True],\n",
       "        [ True,  True,  True,  True]]),\n",
       " array([ 5,  6,  7,  8,  9, 10, 11]))"
      ]
     },
     "execution_count": 12,
     "metadata": {},
     "output_type": "execute_result"
    }
   ],
   "source": [
    "a = np.arange(12).reshape(3,4)                   #creates a 3x4 array with the numbers from 1 to 11\n",
    "b = a > 4\n",
    "a, b, a[b]                                     \n"
   ]
  },
  {
   "cell_type": "code",
   "execution_count": 13,
   "metadata": {},
   "outputs": [
    {
     "data": {
      "text/plain": [
       "array([ 3,  7, 30, 56, 61, 89])"
      ]
     },
     "execution_count": 13,
     "metadata": {},
     "output_type": "execute_result"
    }
   ],
   "source": [
    "x = [56, 7, 3, 89, 30, 61]\n",
    "np.sort(x)   #rearranges the list in ascending order"
   ]
  },
  {
   "cell_type": "code",
   "execution_count": 14,
   "metadata": {},
   "outputs": [
    {
     "name": "stdout",
     "output_type": "stream",
     "text": [
      "[0 1 2 3 4 5]\n"
     ]
    },
    {
     "data": {
      "text/plain": [
       "array([[0, 1, 2],\n",
       "       [3, 4, 5]])"
      ]
     },
     "execution_count": 14,
     "metadata": {},
     "output_type": "execute_result"
    }
   ],
   "source": [
    "x = np.arange (6)\n",
    "print(x)\n",
    "\n",
    "x.reshape(2,3) #reshapes the array, receiving as arguments (line, column)"
   ]
  },
  {
   "cell_type": "markdown",
   "metadata": {},
   "source": [
    "<div style=\"background:#62d321;font-family:'arial', monospace; text-align: center; padding: 10px 0; border-radius:10px; width:70%; margin:auto \" >\n",
    "  <span style=\"font-size:20px;position:relative;color:white; \"> Explore </span> <br>\n",
    "  <div style=\"background:#c5e8b0;font-size:12px\"> \n",
    "    To learn more about NumPy funtionalities, visit [NumPy](https://numpy.org/).\n",
    "</div>"
   ]
  },
  {
   "cell_type": "markdown",
   "metadata": {},
   "source": [
    "#### <div style=\"color:#00a0e4\">   2.3. Pandas  </div>"
   ]
  },
  {
   "cell_type": "markdown",
   "metadata": {},
   "source": [
    "*Pandas* is a package designed to work with **tabular data**, namely data stored in spreadsheets and databases. It allows, for instance, the manipulation of rows and columns by selecting/modifying/eliminating specific data. \n",
    "\n",
    "Here's some examples of how it works."
   ]
  },
  {
   "cell_type": "code",
   "execution_count": 15,
   "metadata": {
    "scrolled": true
   },
   "outputs": [
    {
     "name": "stdout",
     "output_type": "stream",
     "text": [
      "    Name  Age\n",
      "0    Tom   20\n",
      "1   Jack   30\n",
      "2  Meera   25\n"
     ]
    }
   ],
   "source": [
    "import pandas as pd \n",
    "\n",
    "data = [['Tom', 20], ['Jack', 30], ['Meera', 25]]\n",
    "\n",
    "df = pd.DataFrame(data, columns = ['Name', 'Age'])\n",
    "\n",
    "print(df)"
   ]
  },
  {
   "cell_type": "code",
   "execution_count": 16,
   "metadata": {
    "scrolled": true
   },
   "outputs": [
    {
     "name": "stdout",
     "output_type": "stream",
     "text": [
      "    Name  Age\n",
      "1   Jack   30\n",
      "2  Meera   25\n"
     ]
    }
   ],
   "source": [
    "print(df[df.Age > 20])"
   ]
  },
  {
   "cell_type": "markdown",
   "metadata": {},
   "source": [
    "<div style=\"background:#62d321;font-family:'arial', monospace; text-align: center; padding: 10px 0; border-radius:10px; width:70%; margin:auto \" >\n",
    "  <span style=\"font-size:20px;position:relative;color:white; \"> Explore </span> <br>\n",
    "  <div style=\"background:#c5e8b0;font-size:12px\"> \n",
    "    To learn more about Pandas funtionalities, visit [Pandas](https://pandas.pydata.org/docs/index.html).\n",
    "</div>"
   ]
  },
  {
   "cell_type": "markdown",
   "metadata": {},
   "source": [
    "#### <div style=\"color:#00a0e4\">  2.4. BioSPPy  </div>"
   ]
  },
  {
   "cell_type": "markdown",
   "metadata": {},
   "source": [
    "*BioSPPy* is a toolbox written in Python for **biosignal processing**. It covers filtering, frequency analysis of the raw signal acquired, clustering and biometrics. This package supports various biosignals, namely, Blood Volume Pulse (BVP), Eletrocardiogram (ECG), Eletrodermal Activity (EDA), Eletroencephalogram (EEG), Eletromyogram (EMG) and Respiration.\n",
    "\n",
    "Let's see an example using this package.\n"
   ]
  },
  {
   "cell_type": "code",
   "execution_count": 17,
   "metadata": {
    "scrolled": false
   },
   "outputs": [
    {
     "name": "stdout",
     "output_type": "stream",
     "text": [
      "Requirement already satisfied: biosppy in c:\\users\\asus\\anaconda3\\lib\\site-packages (0.6.1)\n",
      "Requirement already satisfied: numpy in c:\\users\\asus\\anaconda3\\lib\\site-packages (from biosppy) (1.19.2)\n",
      "Requirement already satisfied: h5py in c:\\users\\asus\\anaconda3\\lib\\site-packages (from biosppy) (2.10.0)\n",
      "Requirement already satisfied: shortuuid in c:\\users\\asus\\anaconda3\\lib\\site-packages (from biosppy) (1.0.1)\n",
      "Requirement already satisfied: scikit-learn in c:\\users\\asus\\anaconda3\\lib\\site-packages (from biosppy) (0.23.1)\n",
      "Requirement already satisfied: bidict in c:\\users\\asus\\anaconda3\\lib\\site-packages (from biosppy) (0.21.2)\n",
      "Requirement already satisfied: matplotlib in c:\\users\\asus\\anaconda3\\lib\\site-packages (from biosppy) (3.3.1)\n",
      "Requirement already satisfied: scipy in c:\\users\\asus\\anaconda3\\lib\\site-packages (from biosppy) (1.5.2)\n",
      "Requirement already satisfied: six in c:\\users\\asus\\anaconda3\\lib\\site-packages (from biosppy) (1.15.0)\n",
      "Requirement already satisfied: joblib>=0.11 in c:\\users\\asus\\anaconda3\\lib\\site-packages (from scikit-learn->biosppy) (0.17.0)\n",
      "Requirement already satisfied: threadpoolctl>=2.0.0 in c:\\users\\asus\\anaconda3\\lib\\site-packages (from scikit-learn->biosppy) (2.1.0)\n",
      "Requirement already satisfied: pillow>=6.2.0 in c:\\users\\asus\\anaconda3\\lib\\site-packages (from matplotlib->biosppy) (8.0.1)\n",
      "Requirement already satisfied: python-dateutil>=2.1 in c:\\users\\asus\\anaconda3\\lib\\site-packages (from matplotlib->biosppy) (2.8.1)\n",
      "Requirement already satisfied: pyparsing!=2.0.4,!=2.1.2,!=2.1.6,>=2.0.3 in c:\\users\\asus\\anaconda3\\lib\\site-packages (from matplotlib->biosppy) (2.4.7)\n",
      "Requirement already satisfied: cycler>=0.10 in c:\\users\\asus\\anaconda3\\lib\\site-packages (from matplotlib->biosppy) (0.10.0)\n",
      "Requirement already satisfied: kiwisolver>=1.0.1 in c:\\users\\asus\\anaconda3\\lib\\site-packages (from matplotlib->biosppy) (1.3.0)\n",
      "Requirement already satisfied: certifi>=2020.06.20 in c:\\users\\asus\\anaconda3\\lib\\site-packages (from matplotlib->biosppy) (2020.6.20)\n"
     ]
    }
   ],
   "source": [
    "!pip install biosppy"
   ]
  },
  {
   "cell_type": "markdown",
   "metadata": {},
   "source": [
    "The first step is to obtain the ECG raw signal, in this case, it was used the GitHub repository ([Biosignal Repository](https://github.com/PIA-Group/BioSPPy/tree/master/examples)) and saved into the \"ECG.txt\" document. For loading and plotting this signal, one could write the code below.\n"
   ]
  },
  {
   "cell_type": "code",
   "execution_count": 19,
   "metadata": {},
   "outputs": [
    {
     "ename": "ImportError",
     "evalue": "cannot import name 'joblib' from 'sklearn.externals' (C:\\Users\\Asus\\anaconda3\\lib\\site-packages\\sklearn\\externals\\__init__.py)",
     "output_type": "error",
     "traceback": [
      "\u001b[1;31m---------------------------------------------------------------------------\u001b[0m",
      "\u001b[1;31mImportError\u001b[0m                               Traceback (most recent call last)",
      "\u001b[1;32m<ipython-input-19-9abcd68743ba>\u001b[0m in \u001b[0;36m<module>\u001b[1;34m\u001b[0m\n\u001b[0;32m      1\u001b[0m \u001b[1;32mimport\u001b[0m \u001b[0mnumpy\u001b[0m \u001b[1;32mas\u001b[0m \u001b[0mnp\u001b[0m\u001b[1;33m\u001b[0m\u001b[1;33m\u001b[0m\u001b[0m\n\u001b[0;32m      2\u001b[0m \u001b[1;32mimport\u001b[0m \u001b[0mpylab\u001b[0m \u001b[1;32mas\u001b[0m \u001b[0mpl\u001b[0m\u001b[1;33m\u001b[0m\u001b[1;33m\u001b[0m\u001b[0m\n\u001b[1;32m----> 3\u001b[1;33m \u001b[1;32mfrom\u001b[0m \u001b[0mbiosppy\u001b[0m \u001b[1;32mimport\u001b[0m \u001b[0mstorage\u001b[0m\u001b[1;33m\u001b[0m\u001b[1;33m\u001b[0m\u001b[0m\n\u001b[0m\u001b[0;32m      4\u001b[0m \u001b[1;33m\u001b[0m\u001b[0m\n\u001b[0;32m      5\u001b[0m \u001b[0msignal\u001b[0m\u001b[1;33m,\u001b[0m \u001b[0mmdata\u001b[0m \u001b[1;33m=\u001b[0m \u001b[0mstorage\u001b[0m\u001b[1;33m.\u001b[0m\u001b[0mload_txt\u001b[0m\u001b[1;33m(\u001b[0m\u001b[1;34mr'..\\X.Example_Files\\ECG.txt'\u001b[0m\u001b[1;33m)\u001b[0m\u001b[1;33m\u001b[0m\u001b[1;33m\u001b[0m\u001b[0m\n",
      "\u001b[1;32m~\\anaconda3\\lib\\site-packages\\biosppy\\storage.py\u001b[0m in \u001b[0;36m<module>\u001b[1;34m\u001b[0m\n\u001b[0;32m     26\u001b[0m \u001b[1;32mimport\u001b[0m \u001b[0mnumpy\u001b[0m \u001b[1;32mas\u001b[0m \u001b[0mnp\u001b[0m\u001b[1;33m\u001b[0m\u001b[1;33m\u001b[0m\u001b[0m\n\u001b[0;32m     27\u001b[0m \u001b[1;32mimport\u001b[0m \u001b[0mshortuuid\u001b[0m\u001b[1;33m\u001b[0m\u001b[1;33m\u001b[0m\u001b[0m\n\u001b[1;32m---> 28\u001b[1;33m \u001b[1;32mfrom\u001b[0m \u001b[0msklearn\u001b[0m\u001b[1;33m.\u001b[0m\u001b[0mexternals\u001b[0m \u001b[1;32mimport\u001b[0m \u001b[0mjoblib\u001b[0m\u001b[1;33m\u001b[0m\u001b[1;33m\u001b[0m\u001b[0m\n\u001b[0m\u001b[0;32m     29\u001b[0m \u001b[1;33m\u001b[0m\u001b[0m\n\u001b[0;32m     30\u001b[0m \u001b[1;31m# local\u001b[0m\u001b[1;33m\u001b[0m\u001b[1;33m\u001b[0m\u001b[1;33m\u001b[0m\u001b[0m\n",
      "\u001b[1;31mImportError\u001b[0m: cannot import name 'joblib' from 'sklearn.externals' (C:\\Users\\Asus\\anaconda3\\lib\\site-packages\\sklearn\\externals\\__init__.py)"
     ]
    }
   ],
   "source": [
    "import numpy as np\n",
    "import pylab as pl\n",
    "from biosppy import storage\n",
    "\n",
    "signal, mdata = storage.load_txt(r'..\\X.Example_Files\\ECG.txt')\n",
    "Fs = mdata['sampling_rate']\n",
    "N = len(signal)  # number of samples\n",
    "T = (N - 1) / Fs  # duration\n",
    "ts = np.linspace(0, T, N, endpoint=False)  # relative timestamps\n",
    "pl.plot(ts, signal, lw=2, color=\"#00bfc2\")\n",
    "pl.grid()\n",
    "pl.show()"
   ]
  },
  {
   "cell_type": "markdown",
   "metadata": {},
   "source": [
    "This is a satisfactory graphic. However, there are still some artifacts resulting from powerline noise interference, DC offset originated from the acquisition device and influence of breathing noticible on the variability of the R-peaks amplitude. It is relatively simple to overcome this issue plus extract some extra signal features writting the following code."
   ]
  },
  {
   "cell_type": "code",
   "execution_count": null,
   "metadata": {
    "scrolled": false
   },
   "outputs": [],
   "source": [
    "from biosppy.signals import ecg\n",
    "out = ecg.ecg(signal=signal, sampling_rate=Fs, show=True)\n"
   ]
  },
  {
   "cell_type": "markdown",
   "metadata": {},
   "source": [
    "<div style=\"background:#62d321;font-family:'arial', monospace; text-align: center; padding: 10px 0; border-radius:10px; width:70%; margin:auto \" >\n",
    "  <span style=\"font-size:20px;position:relative;color:white; \"> Explore </span> <br>\n",
    "  <div style=\"background:#c5e8b0;font-size:12px\"> \n",
    "    To learn more about BioSPPy funtionalities, visit [BioSPPy](https://biosppy.readthedocs.io/en/stable/).\n",
    "</div>\n"
   ]
  },
  {
   "cell_type": "markdown",
   "metadata": {},
   "source": [
    "#### <div style=\"color:#00a0e4\">   2.5. pySerial  </div>"
   ]
  },
  {
   "cell_type": "markdown",
   "metadata": {},
   "source": [
    "*pySerial* is also a package written 100% in Python. It can be particularly interesting since it allows the computer to exchange data with external hardware such as voltmeters, oscilloscopes and, in this context, devices for biosignal acquisition. This is made through **serial communication**: process of sending data one bit at a time through a communication channel (opposite of parallel communication). The development of this type of communication allowed for example the creation of the USB (Universal Serial Bus)."
   ]
  },
  {
   "cell_type": "markdown",
   "metadata": {},
   "source": [
    "<div style=\"background:#62d321;font-family:'arial', monospace; text-align: center; padding: 10px 0; border-radius:10px; width:70%; margin:auto \" >\n",
    "  <span style=\"font-size:20px;position:relative;color:white; \"> Explore </span> <br>\n",
    "  <div style=\"background:#c5e8b0;font-size:12px\"> \n",
    "    To learn more about pySerial funtionalities, visit [pySerial](https://pyserial.readthedocs.io/en/latest/pyserial.html#overview).\n",
    "</div>"
   ]
  },
  {
   "cell_type": "markdown",
   "metadata": {},
   "source": [
    "#### <div style=\"color:#00a0e4\">   2.6. Scikit-learn  </div>"
   ]
  },
  {
   "cell_type": "markdown",
   "metadata": {},
   "source": [
    "*Scikit-learn* is an open-source machine learning library suitable for **model fitting**, **data processing** and much more. All of this can be done thanks to numerous algorithms and models, called estimators. Estimators can be fitted to data using a fit method.\n",
    "\n",
    "Here's how it can be done.\n"
   ]
  },
  {
   "cell_type": "code",
   "execution_count": null,
   "metadata": {
    "scrolled": true
   },
   "outputs": [],
   "source": [
    "from sklearn.ensemble import RandomForestClassifier\n",
    "\n",
    "clf = RandomForestClassifier(random_state=0)\n",
    "X = [[ 1,  2,  3], [11, 12, 13]]\n",
    "y = [0, 1]  # classes of each sample\n",
    "\n",
    "clf.fit(X, y)\n",
    "\n",
    "RandomForestClassifier(random_state=0)"
   ]
  },
  {
   "cell_type": "markdown",
   "metadata": {},
   "source": [
    "\n",
    "<div style=\"background:#62d321;font-family:'arial', monospace; text-align: center; padding: 10px 0; border-radius:10px; width:70%; margin:auto \" >\n",
    "  <span style=\"font-size:20px;position:relative;color:white; \"> Explore </span> <br>\n",
    "  <div style=\"background:#c5e8b0;font-size:12px\"> \n",
    "    To learn more about Scikit-learn funtionalities, visit [Scikit-learn](https://scikit-learn.org/stable/).\n",
    "</div>"
   ]
  },
  {
   "cell_type": "markdown",
   "metadata": {},
   "source": [
    "# III. Explore\n",
    "<br>\n",
    "<div class='h1'  style=\"width:100%; background:#00a0e4;color:#282828;font-family:'arial black'; text-align: center; padding: 7px 0; border-radius: 5px 50px;margin-top:-15px\" > </div>"
   ]
  },
  {
   "cell_type": "markdown",
   "metadata": {},
   "source": [
    "### <div style=\"color:#00a0e4\">  3. Further Reading  </div>\n",
    "\n",
    "  The [Anaconda Site](https://www.anaconda.com/) has more information regarding the Navigator. The [Anaconda Cloud](https://anaconda.org/) is where all the pachages, projects and environments are shared."
   ]
  },
  {
   "cell_type": "markdown",
   "metadata": {},
   "source": [
    "<div style=\"height:100px; background:white;border-radius:10px;text-align:center\"> \n",
    "\n",
    "<a> <img src=\"https://www.di.ubi.pt/~agomes/index_files/LogoIT.png\" alt=\"it\" style=\" bottom: 0; width:250px;\n",
    "    display: inline;\n",
    "    left: 250px;\n",
    "    position: absolute;\"/> </a>\n",
    "<img src=\"https://cqe.tecnico.ulisboa.pt/files/files/logos/IST_A_RGB_POS.png\"\n",
    "         alt=\"alternate text\" \n",
    "         style=\"position: relative;   width:250px; float: left;\n",
    "    position: absolute;\n",
    "    display: inline;\n",
    "    bottom: 0;\n",
    "    right: 100;\"/>\n",
    "</div> "
   ]
  },
  {
   "cell_type": "markdown",
   "metadata": {},
   "source": [
    "<div style=\"width: 100%; \">\n",
    "<div style=\"background:#00a0e4;color:white;font-family:'arial', monospace; text-align: center; padding: 50px 0; border-radius:10px; height:10px; width:100%; float:left \" >\n",
    "<span style=\"font-size:12px;position:relative; top:-25px\">  Please provide us your feedback <span style=\"font-size:14px;position:relative;COLOR:WHITE\"> <a href=\"https://forms.gle/C8TdLQUAS9r8BNJM8\">here</a>.</span></span> \n",
    "<br>\n",
    "<span style=\"font-size:17px;position:relative; top:-20px\">  Suggestions are welcome! </span> \n",
    "</div>"
   ]
  },
  {
   "cell_type": "markdown",
   "metadata": {},
   "source": [
    "```Contributors: Ana Isabel Encarnação```"
   ]
  }
 ],
 "metadata": {
  "kernelspec": {
   "display_name": "Python 3",
   "language": "python",
   "name": "python3"
  },
  "language_info": {
   "codemirror_mode": {
    "name": "ipython",
    "version": 3
   },
   "file_extension": ".py",
   "mimetype": "text/x-python",
   "name": "python",
   "nbconvert_exporter": "python",
   "pygments_lexer": "ipython3",
   "version": "3.7.6"
  }
 },
 "nbformat": 4,
 "nbformat_minor": 4
}
