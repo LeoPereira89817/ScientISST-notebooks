{
 "cells": [
  {
   "cell_type": "markdown",
   "metadata": {},
   "source": [
    " # <div  style=\"color:#303030;font-family:'arial blACK', sans-serif,monospace; text-align: center; padding: 50px 0; vertical-align:middle;\" > <img src=\"https://www.nicepng.com/png/full/204-2043038_white-lightbulb-icon-light-bulb-icon-white.png\" style=\" background:#00a0e4;border-radius:10px;width:150px;text-align:left; margin-left:10%\"  /> <span style=\"position:relative; bottom:70px; margin-left:5%\">    Preparing a Scientific <br> Experimental Study</span> </div>"
   ]
  },
  {
   "cell_type": "markdown",
   "metadata": {},
   "source": [
    "## <span style=\"color:#00a0e4;\"> Keywords: </span>"
   ]
  },
  {
   "cell_type": "markdown",
   "metadata": {},
   "source": [
    "```Biomedical Research```,```Multimodal Data Acquisition```,```Experimental Study```,```Dataset Storage```,```Data Sharing```|"
   ]
  },
  {
   "cell_type": "markdown",
   "metadata": {},
   "source": [
    "# I. Introduction\n",
    "<br>\n",
    "<div class=\"title\"style=\"width:100%; background:#00a0e4;font-family:'arial black',monospace; text-align: center; padding: 7px 0; border-radius: 5px 50px;margin-top:-15px\" >  </div>"
   ]
  },
  {
   "cell_type": "markdown",
   "metadata": {},
   "source": [
    "## <div style=\"color:#00a0e4\"> 1. Background </div>"
   ]
  },
  {
   "cell_type": "markdown",
   "metadata": {},
   "source": [
    "We currently witness an increasingly large volume of biomedical data being produced worldwide. Nowadays the challenges rely on the appropriate datamanaging,  structuring  and  storage,  towards  an  efficient  analysis,  sharing  and faster progress in biomedical research."
   ]
  },
  {
   "cell_type": "markdown",
   "metadata": {},
   "source": [
    "## <div style=\"color:#00a0e4\"> 2. Objectives</div>\n",
    "* Introduction to a set of guidelines and recommendations for the conduction of a biomedical experimental study\n",
    "* Providing the main steps to consider during the preparation and course of an experimental study"
   ]
  },
  {
   "cell_type": "markdown",
   "metadata": {},
   "source": [
    "# II. Experimental\n",
    "<br>\n",
    "<div style=\"width:100%; background:#00a0e4;color:#282828;font-family:'arial black'; text-align: center; padding: 7px 0; border-radius: 5px 50px; margin-top:-15px\" > </div>"
   ]
  },
  {
   "cell_type": "markdown",
   "metadata": {},
   "source": [
    "### <div style=\"color:#00a0e4\">  1.  Establishing the Purpose of the Study </div>"
   ]
  },
  {
   "cell_type": "markdown",
   "metadata": {},
   "source": [
    "The first step of a study consists in defining its purpose well, for it must be clearand complemented with measurable outcomes.\n",
    "\n",
    "To do it, several questions must be asked and weighted:\n",
    "\n",
    "#### <div style=\"color:#00a0e4\">   1.1. What are the objectives of the study? </div>\n",
    "\n",
    "Clearly defining the purpose of the study implies considering the set of ob-jectives. Those will all converge to an ultimate goal, which is the purpose, andthe most clear it is, the better the efficiency and representativity of the study, as it will impact on the choice of the appropriate sample, a well-designed exper-imental protocol, and even on the choice of the right methods.\n",
    "\n",
    "\n",
    "#### <div style=\"color:#00a0e4\">   1.2. What is the field background? </div>\n",
    "\n",
    "To ease the task of establishing the purpose of the study, the research teamshould also take into account the background of the field, related work, revisionof possible methods and foresee of the outcomes.\n",
    "\n",
    "\n",
    "#### <div style=\"color:#00a0e4\">   1.3. Why should the purpose be clear and well defined? </div>\n",
    "\n",
    "Any research broadly contains useful results in itself. However, it becomesmore efficient if the whole study is designed considering a well-defined purpose.\n",
    "Whether the the work aims at validating a product, comparing two methods, ortesting a new approach, having its purpose clearly stated will smooth the taskof efficiently taking the several steps and decisions of the study. These decisionsrange from the right research team selection, to the definition of the appropriatemethodology or the data analysis, as will be detailed in the remaining sections.\n",
    "\n"
   ]
  },
  {
   "cell_type": "markdown",
   "metadata": {},
   "source": [
    "### <div style=\"color:#00a0e4\">  2. Defining a Sample </div>"
   ]
  },
  {
   "cell_type": "markdown",
   "metadata": {},
   "source": [
    "Firstly it is important to identify the best approach for the study, with respect to its sample goals. \n",
    "\n",
    "#### <div style=\"color:#00a0e4\">   2.1. What is the population? </div>\n",
    "\n",
    "The first step is deciding the study population. The population characteristics and study design should be clearly defined, in order to ensure a sample that fits the objectives of the study. \n",
    "\n",
    "\n",
    "\n",
    "<div style=\"background:#62d321;font-family:'arial', monospace; text-align: center; padding: 10px 0; border-radius:10px; width:70%; margin:auto \" >\n",
    "  <span style=\"font-size:20px;position:relative;color:white; \"> Explore </span> <br>\n",
    "  <div style=\"background:#c5e8b0;font-size:12px\"> \n",
    "https://emj.bmj.com/content/20/1/54</div>\n",
    "</div>\n",
    "\n",
    "In our context, the most broad and common populations to study comprise either clinical-specific groups or healthy population. Other populations might specify the type of activity of the subject, age groups, athletes, etc.\n",
    "\n",
    "\n",
    "#### <div style=\"color:#00a0e4\">   2.2. What sample of the population is suitable for the study? </div>\n",
    "\n",
    "\n",
    "\n",
    "Depending on what the purpose of the study is, the sample might take various structures:\n",
    "\n",
    "* It can consist in one single group of participants, all of whom have similar characteristics and who will be subject to the same protocol;\n",
    "* It can be split into different groups, with slight variations in the features tested in the protocol - e.g. useful in product and user experience tests, within both academy and industry;\n",
    "* It can comprise two groups, a control and a test one, i.e. two groups differing in one particular characteristics - e.g. useful in drug testing groups, or to assess correlation of different reactions of the two groups regarding the same experimental protocol; \n",
    "* It can consider several groups, splitting the sample according to a chosen parameter (e.g. age, gender) - e.g. useful to compare different responses to the same protocol, as in the previous item; or to avoid bias in the results. This represents the sample structure used in the H2A2 Innolabs study, where participants of different age ranges and heightened stress levels were grouped accordingly;\n",
    "* Combinations of the previous possibilities.\n",
    "\n",
    "Once the structure is defined, it is important to set further specifications for the sample group(s), regarding the number of participants, and age and gender distribution.\n",
    "\n",
    "\n",
    "#### <div style=\"color:#00a0e4\">   2.3. What will be language(s) of the study? </div>\n",
    "\n",
    "The correct understanding of the language is essential to ensure reliable results, specially in cases where the patient provides auto-reports. \n",
    "It should be understood by the participant or the participant's legally authorized representative.\n",
    "Optionally, the preferred language can be selected by the at the beginning of the study. \n",
    "\n",
    "\n",
    "#### <div style=\"color:#00a0e4\">   2.4. What are the general requirements? </div>\n",
    "\n",
    "Once the target sample is defined, one must ensure there is not ambiguity in its definition. This implies that the inclusion and exclusion criteria should be stated and justified.\n",
    "\n",
    "The inclusion criteria might be as broad as \"subjects within an age range of 18 to 80\" or as narrow as \"healthy subjects in the first year of college, whom practise competitive swimming\".\n",
    "\n",
    "Examples of exclusion criteria may be as common as excluding participants that present a specific characteristic, such as taking medication or having historical disorder that could interfere with the aim of the study, or by implementing more quantitative measures that draw a threshold to admit participants, such as using scales. For instance, if the latter study is aimed at studying ECG from healthy students, the researcher would likely decline a registration from a subject with a heart disease or under medication, despite them being a first year student, and whom practise competitive swimming.\n",
    "\n",
    "\n",
    "#### <div style=\"color:#00a0e4\">   2.5. How are you going to achieve the target sample? </div>\n",
    "\n",
    "It matters to consider carefully the characteristics of the population one aims to study, and the objectives that are defined. At this point, the difficulty of gathering a large population, or a small population with a particularly rare characteristic, should both be discarded.\n",
    "\n",
    "The need for appropriate dissemination channels must be acknowledged. Best practices include propagation on social media, both in personal as in institutional pages. Another simple dissemination tool that works out well is distributing flyers about the study, stating its aim, target population and contact info. Our experience revealed that the word of mouth dissemination through previous participants remains as one of the most efficient ways to reach more potential participants. \n",
    "\n",
    "In case the sample has a very well defined profile, personal, clinical or socio-economical wise, it might be advisable to identify communities or enterprises that include large amounts of people with that profile. Hence the researchers must also plan a way to get the target population to conduct their study. One can figure out certain society groups prone to participate, and gather certain tools to reach them. If the population is targeted at healthy young volunteers, maybe the researchers can use all their academic network to spread the study and recruit volunteers. If the population is elderly, the researchers should brainstorm about possible places where they could reach potential participants in a easier way, either nursing homes, or churches. \n",
    "If the research objective is to comprise a group with a very well defined clinical profile, then it might make sense to establish a collaboration with a clinical institution.\n",
    "\n",
    "Despite not being a mandatory procedure in biomedical research, rewards have been widely recognized as positive means to potentiate both participant's recruitment and their motivation during the activities of the procedures. |"
   ]
  },
  {
   "cell_type": "markdown",
   "metadata": {},
   "source": [
    "### <div style=\"color:#00a0e4\">   3. Formalities and Methodological Recommendations </div>"
   ]
  },
  {
   "cell_type": "markdown",
   "metadata": {},
   "source": [
    "The preparation of a biomedical research study must comprise the formalities that will make it compliant with data privacy and other policies required.\n",
    "\n",
    "#### <div style=\"color:#00a0e4\">   3.1. How should you comply with legal and ethics policies?  </div>\n",
    "\n",
    "Procedures involving human subjects must have a Consent Form, comply with a Privacy Protocol, and, if the study concerns potential sensitive data, a Consent Withdrawal Form.\n",
    "\n",
    "* Consent Form:\n",
    "\n",
    "a brief document, containing the important information aboutthe  goal  and  functioning  of  the  study,  to  be  presented  and  signed  by  theparticipants  at  the  beginning  of  the  study.  It  thus  consists  of  two  parts, the  information  sheet  and  the  consent  certificate,  and  might  include  several criteria.\n",
    "\n",
    "<div style=\"background:#00bfc2;font-family:'arial', monospace; text-align: center; padding: 10px 0; border-radius:10px; width:70%; margin:auto \" >\n",
    "  <span style=\"font-size:20px;position:relative;color:white; \">  Note </span> <br>\n",
    "  <div style=\"background:#9eddde;font-size:12px\"> \n",
    "    An example template is made available by the World HealthOrganization (WHO): <br>\n",
    "    \n",
    "    https://www.who.int/ethics/review-committee/informed_consent/en/   \n",
    "</div>\n",
    "</div>\n",
    "\n",
    "* Privacy Protocol:\n",
    "\n",
    "it includes the anonymous treatment of the data of eachparticipant and safety storage measures, the latter will be seen on Section 7. The anonymous treatment of the personal data might include simple but effi-cient measures, including associating an ID to each participant, and limitingto the minimum the number of people with actual access to that association. For instance, in case the data of the study is shared afterwards with otherresearch institutions or research institutions, the dataset must comprise onlythe ID’s and not the actual personal data of the participants.\n",
    "\n",
    "* Consent Withdrawal Form:\n",
    "\n",
    "there  are  certain  types  of  studies  where  theparticipants are more likely to quit during the procedure, due to pain, sched-ule constraints, or simply personal reasons. There are also studies that dealwith  delicate  data,  e.g.  facial  images  or  psychological  behaviour,  in  whicheven when the participants complete all the procedure, they might not feelcomfortable in having their data used. In this cases, it makes sense to prepareone document to acknowledge and register formally the quitting. \n",
    "\n",
    "In this scenario, one must always get the experimental procedure approvedby the Institutional Review Board or equivalent entity."
   ]
  },
  {
   "cell_type": "markdown",
   "metadata": {},
   "source": [
    "### <div style=\"color:#00a0e4\">   4.  Support Tools </div>"
   ]
  },
  {
   "cell_type": "markdown",
   "metadata": {},
   "source": [
    "Researchers face several operational problems that go beyond the scientific ones, while preparing a research study and gathering its data. Nowadays those can be easily overcome using support tools available online.\n",
    "\n",
    "#### <div style=\"color:#00a0e4\">   4.1. Which steps can you take to optimize the logistic operations? </div>\n",
    "\n",
    "\n",
    "Firstly, the process of participants recruitment should be as automatic and digital as possible. Online registration forms are the easier and more efficient way to have participants enrolled. Then, it is important to find a way to integrate these registrations in a tool that allows automatic access to the input data and deal with it in order to decide whether to include it in the study sample, and within each group. Google forms and consequent google sheets have worked out well for us. For instance, most of the studies aim at 50% female participants, for which it matters to automatically access if a new female registration is within or without the defined sample. Further info can be computed more easily using excel sheets, e.g. if the registration form comprised a scale whose punctuation will differentiate participants into several groups.\n",
    "\n",
    "As mentioned, in this case the pre-selection of the participants into each group was done using their HADS assessment and considering their age, reason for which the utilization of online excel sheets was the most efficient way of having this pre-selection computed in a fast and automatic way.\n",
    "\n",
    "Furthermore, once the participant enrolls in the study, the researcher must contact them and proceed with the scheduling of the experimental sessions. \n",
    "Several ways might be used to do so, having that personal e-mail contact remains the most used one. Regarding the scheduling process, researchers are increasingly adopting online scheduling options. The one we used was Doodle, which was a good option and that allowed the adjustment of certain parameters (such as choosing different slots for each day, or to allow the participant to choose one slot only). A good practise is to send e-mail reminders to the participants one day before their session.\n",
    "\n",
    "Despite all the efforts towards conducting a consistent and standardized study, some lapses or unforeseen events might and will, most likely, occur. We have adopted a Study LogBook, which is a simple but efficient method to keep track of the study. The logbook allows the researcher to register those simple unforeseen events that punctually occur in a given experiment, or simple notes regarding any parameter within it, such as the mood of participant or an acquisition problem. "
   ]
  },
  {
   "cell_type": "markdown",
   "metadata": {},
   "source": [
    "### <div style=\"color:#00a0e4\">   5.  Experimental Protocol Design and Materials </div>"
   ]
  },
  {
   "cell_type": "markdown",
   "metadata": {},
   "source": [
    "Once the characteristics and structure of the sample are defined, it is time to adjust and design the experimental protocol accordingly, including both the protocol and materials.\n",
    "\n",
    "#### <div style=\"color:#00a0e4\">   5.1. Which events and conditions will your experimental protocol include? </div>\n",
    "\n",
    "The experimental protocol includes the sequence of events or experiences to follow during the experiment, which can have one or several versions. In fact, depending on the number of sessions, on the number of groups within the sample, or on the sample structure as priorly defined, the researcher might want to distinguish two or more versions of the sequence of experiences included in protocol.\n",
    "\n",
    "Afterwards, a number of steps and choices are taken to making the protocol reproducible and efficient, from the selection and gathering of all required materials, to the schedule constraints and the definition of the set of lab conditions that all sessions should comply with. The importance of these is to guarantee the most standardized procedures and uniform external conditions that could compromise the validity of the results of the study. For instance, in an emotion-elicitation protocol, external audio or visual influence should be avoided. Similarly, in a study involving facial images recording, the lab conditions with respect to light must be within certain parameters and as similar as possible across sessions. "
   ]
  },
  {
   "cell_type": "markdown",
   "metadata": {},
   "source": [
    "### <div style=\"color:#00a0e4\">   6.  Dataset Organization, Storage and Sharing </div>"
   ]
  },
  {
   "cell_type": "markdown",
   "metadata": {},
   "source": [
    "With respect to dataset organization and storage, some concerns must be kept in mind, including safety, structure and naming.\n",
    "\n",
    "#### <div style=\"color:#00a0e4\">   6.1. How will you organize the dataset? </div>\n",
    "\n",
    "To ensure an appropriate organization of the data collected, the research team must acknowledge the different types of data being collected and figure out a structure to store it. Several approaches can be adopted, as will be further detailed.\n",
    "\n",
    "\n",
    "#### <div style=\"color:#00a0e4\">   6.2. How will you ensure safe storage of the dataset? </div>\n",
    "\n",
    "For local storage of the experimental dataset, redundancy is advised, to keep data duplicated and diminish the small risk of losing the data. \n",
    "Thus, we kept two external hard drives, and ensured that one of those never left the facilities.\n",
    "\n",
    "Moreover, considering the geographical distance between the two parties of this study, having the experimental study being held in Lisbon and part of the analysis being computed in Amsterdam, there was need to find a reliable and secure way to share the dataset collected amongst the researcher involved. Several online storage tools are available, most of which are paid for large storage needs. In this study, we opted for Tresorit, in which the files are encrypted before being uploaded to the cloud, therefore being considered a safe cloud storage that enabled the sharing of the study files amongst all researchers.\n",
    "\n",
    "\n",
    "#### <div style=\"color:#00a0e4\">   6.3. Will you share your dataset with the scientific community? How? </div>\n",
    "\n",
    "Nowadays, scientific progress is intrinsically associated with the data we share with others. Sharing data will increase the transparency of your findings, allow other researchers to validate your methods, and contribute to scientific discovery way beyond its original purpose.\n",
    "\n",
    "When you consider data sharing, you should be aware of the FAIR principles: findable, accessible, interoperable, and reusable. These are guidelines to the way data should be shared, in order to benefit researchers and to assure the maximum use and impact of your data. \n",
    "\n",
    "First, you should decide if the entire dataset is to go public, or if a specific content should have restricted access (such as video footage or anything that may compromise the privacy of the user). You can even restrict access to the entire dataset, still, you should leave the metadata public. Metadata is fundamental in data sharing since it contains contextual information of the data, its purpose, the experimental protocol, and even associated contents to help on data analysis. Besides metadata, it is also important to have associated a Digital Object Identifier (DOI). \n",
    "\n",
    "Afterward, the best way to share data is through an open research data repository. These will archive your data, and assign it a DOI and a web page displaying the information relevant for other researchers, such as the metadata. This website describes several open data repositories and might help you to know which repository will best suit your needs."
   ]
  },
  {
   "cell_type": "markdown",
   "metadata": {},
   "source": [
    "# III. Explore\n",
    "<br>\n",
    "<div class='h1'  style=\"width:100%; background:#00a0e4;color:#282828;font-family:'arial black'; text-align: center; padding: 7px 0; border-radius: 5px 50px;margin-top:-15px\" > </div>"
   ]
  },
  {
   "cell_type": "markdown",
   "metadata": {},
   "source": [
    "### <div style=\"color:#00a0e4\">  1. Final Notes </div>"
   ]
  },
  {
   "cell_type": "markdown",
   "metadata": {},
   "source": [
    "It is important to emphasise that despite a general set of steps was provided throughout this chapter, each research study has its own particularities, reason for which small adjustments might have to take place depending on the type of biomedical work.\n",
    "\n",
    "To comply with the planning suggested through this set of steps, we hereafter present a simplified checklist to guide the researcher.\n",
    "\n",
    "<img src=\"https://i.ibb.co/hHWR8w1/Screenshot-2020-10-22-at-09-55-49.png\" align=\"center\" width=\"400\"/>\n"
   ]
  },
  {
   "cell_type": "markdown",
   "metadata": {},
   "source": [
    "<div style=\"height:115px; background:white;border-radius:10px;text-align:center\"> \n",
    "\n",
    "<img src=\"https://www.lx.it.pt/~asmc/predict/images/IT.png\" alt=\"it\" style=\"position: relative; margin-left: 10px; bottom:-55px;max-width:150px;height:auto;\"/> \n",
    "<img src=\"https://cqe.tecnico.ulisboa.pt/files/files/logos/IST_A_RGB_POS.png\"\n",
    "         alt=\"alternate text\" \n",
    "         style=\"position: relative; margin-left: 10px;  bottom:-50px; width:150px;height:auto;\"/>\n",
    "</div> "
   ]
  },
  {
   "cell_type": "markdown",
   "metadata": {},
   "source": [
    "<div style=\"width: 100%; \">\n",
    "<div style=\"background:#00a0e4;color:white;font-family:'arial', monospace; text-align: center; padding: 50px 0; border-radius:10px; height:10px; width:100%; float:left \" >\n",
    "<span style=\"font-size:12px;position:relative; top:-25px\">  Please provide us your feedback <span style=\"font-size:14px;position:relative;COLOR:WHITE\"> [here](https://forms.gle/C8TdLQUAS9r8BNJM8)</span>.</span> \n",
    "<br>\n",
    "<span style=\"font-size:17px;position:relative; top:-20px\">  Suggestions are welcome! </span> \n",
    "</div>"
   ]
  },
  {
   "cell_type": "markdown",
   "metadata": {},
   "source": [
    "```Contributors: Prof. Hugo Silva; Prof. Ana Fred; Joana Pinto; ```"
   ]
  }
 ],
 "metadata": {
  "kernelspec": {
   "display_name": "Python 3",
   "language": "python",
   "name": "python3"
  },
  "language_info": {
   "codemirror_mode": {
    "name": "ipython",
    "version": 2
   },
   "file_extension": ".py",
   "mimetype": "text/x-python",
   "name": "python",
   "nbconvert_exporter": "python",
   "pygments_lexer": "ipython2",
   "version": "2.7.17"
  }
 },
 "nbformat": 4,
 "nbformat_minor": 4
}
