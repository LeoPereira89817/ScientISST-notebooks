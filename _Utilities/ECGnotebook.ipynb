{
 "cells": [
  {
   "cell_type": "markdown",
   "metadata": {},
   "source": [
    "# <div  style=\"color:#303030;font-family:'arial blACK', sans-serif,monospace; text-align: center; padding: 50px 0; vertical-align:middle;\" > <img src=\"https://github.com/PIA-Group/ScientIST-notebooks/blob/master/_Resources/Images/Lightbulb.png?raw=true\" style=\" background:#00a0e4;border-radius:10px;width:150px;text-align:left; margin-left:10%\"  /> <span style=\"position:relative; bottom:70px; margin-left:5%\">    Template - Example </span> </div>"
   ]
  },
  {
   "cell_type": "markdown",
   "metadata": {},
   "source": [
    "## <span style=\"color:#00a0e4;\"> Keywords: </span>"
   ]
  },
  {
   "cell_type": "markdown",
   "metadata": {},
   "source": [
    "```Keyword 1```, ```Keyword 2```, ```Keyword 3```"
   ]
  },
  {
   "cell_type": "markdown",
   "metadata": {},
   "source": [
    "# I. Introduction\n",
    "<br>\n",
    "<div class=\"title\"style=\"width:100%; background:#00a0e4;font-family:'arial black',monospace; text-align: center; padding: 7px 0; border-radius: 5px 50px;margin-top:-15px\" >  </div>"
   ]
  },
  {
   "cell_type": "markdown",
   "metadata": {},
   "source": [
    "This notebook provides an overview to the complete set of notebooks made available in this repository. Despite being grouped by category, these are independent an can be organized as most suits the purpose of the course."
   ]
  },
  {
   "cell_type": "markdown",
   "metadata": {},
   "source": [
    "## <div style=\"color:#00a0e4\"> 1. Background </div>"
   ]
  },
  {
   "cell_type": "markdown",
   "metadata": {},
   "source": [
    "This section should briefly comprise the concepts, context, and motivation to introduce the topic of the lab."
   ]
  },
  {
   "cell_type": "markdown",
   "metadata": {},
   "source": [
    "## <div style=\"color:#00a0e4\"> 2. Objectives</div>\n",
    "* Objetive 1 ...\n",
    "* Objetive 2 ...\n",
    "* ..."
   ]
  },
  {
   "cell_type": "markdown",
   "metadata": {},
   "source": [
    "## <div style=\"color:#00a0e4\"> 3. Materials (optional) </div>\n",
    "* Material 1 ...\n",
    "* Material 2 ...\n",
    "* ..."
   ]
  },
  {
   "cell_type": "markdown",
   "metadata": {},
   "source": [
    "# II. Experimental\n",
    "<br>\n",
    "<div style=\"width:100%; background:#00a0e4;color:#282828;font-family:'arial black'; text-align: center; padding: 7px 0; border-radius: 5px 50px; margin-top:-15px\" > </div>"
   ]
  },
  {
   "cell_type": "markdown",
   "metadata": {},
   "source": [
    "This section should guide the students during their experimental procedure, and contain the most relevant content."
   ]
  },
  {
   "cell_type": "markdown",
   "metadata": {},
   "source": [
    "### <div style=\"color:#00a0e4\">  1. Requirements (optional) </div>"
   ]
  },
  {
   "cell_type": "markdown",
   "metadata": {},
   "source": [
    "In this section, the libraries required should be installed, using the command:"
   ]
  },
  {
   "cell_type": "code",
   "execution_count": null,
   "metadata": {},
   "outputs": [],
   "source": [
    "!pip install [LIBRARYNAME] >/dev/null 2>&1\n"
   ]
  },
  {
   "cell_type": "markdown",
   "metadata": {},
   "source": [
    "and imported:"
   ]
  },
  {
   "cell_type": "code",
   "execution_count": null,
   "metadata": {},
   "outputs": [],
   "source": [
    "import matplotlib.pyplot as plt\n",
    "import numpy as np\n"
   ]
  },
  {
   "cell_type": "markdown",
   "metadata": {},
   "source": [
    "### <div style=\"color:#00a0e4\">  2. Section name </div>"
   ]
  },
  {
   "cell_type": "markdown",
   "metadata": {},
   "source": [
    "### <div style=\"color:#00a0e4\">  3. Notes and Warnings - Example  </div>"
   ]
  },
  {
   "cell_type": "markdown",
   "metadata": {},
   "source": [
    "<div style=\"background:#fada5e;font-family:'arial', monospace; text-align: center; padding: 10px 0; border-radius:10px; width:70%; margin:auto \" >\n",
    "  <span style=\"font-size:20px;position:relative;color:white; \">  Warning! </span> <br>\n",
    "  <div style=\"background:#fff3c4;font-size:12px\"> \n",
    "    The warning must be explained here...      \n",
    "    </div>\n",
    "</div>"
   ]
  },
  {
   "cell_type": "markdown",
   "metadata": {},
   "source": [
    "<div style=\"background:#00bfc2;font-family:'arial', monospace; text-align: center; padding: 10px 0; border-radius:10px; width:70%; margin:auto \" >\n",
    "  <span style=\"font-size:20px;position:relative;color:white; \">  Note </span> <br>\n",
    "  <div style=\"background:#9eddde;font-size:12px\"> \n",
    "    The note must be explained here...     \n",
    "</div>\n",
    "</div>"
   ]
  },
  {
   "cell_type": "markdown",
   "metadata": {},
   "source": [
    "<div style=\"background:#62d321;font-family:'arial', monospace; text-align: center; padding: 10px 0; border-radius:10px; width:70%; margin:auto \" >\n",
    "  <span style=\"font-size:20px;position:relative;color:white; \"> Explore </span> <br>\n",
    "  <div style=\"background:#c5e8b0;font-size:12px\"> \n",
    "    The explore more advice must be explained here...      \n",
    "</div>\n",
    "</div>"
   ]
  },
  {
   "cell_type": "markdown",
   "metadata": {},
   "source": [
    "<div style=\"background:#fe9b29;font-family:'arial', monospace; text-align: center; padding: 10px 0; border-radius:10px; width:70%; margin:auto \" >\n",
    "  <span style=\"font-size:20px;position:relative;color:white; \">  Caution! </span> <br>\n",
    "  <div style=\"background:#ffdab0;font-size:12px\"> \n",
    "    The caution must be explained here...     \n",
    "</div>\n",
    "</div>"
   ]
  },
  {
   "cell_type": "markdown",
   "metadata": {},
   "source": [
    "\n",
    "Created on Sun Feb 14 15:16:12 2021\n",
    "\n",
    "@author: Asus\n"
   ]
  },
  {
   "cell_type": "markdown",
   "metadata": {},
   "source": [
    " B"
   ]
  },
  {
   "cell_type": "code",
   "execution_count": 1,
   "metadata": {},
   "outputs": [],
   "source": [
    "def B(Kb): \n",
    "    \"\"\"Generates the amplitude values of the first isoelectric line (B segment) of the ECG signal. \n",
    "    \n",
    "    Follows the approach by Dolinský, Andráš, Michaeli and Grimaldi [Model03].\n",
    "    \n",
    "    If the parameter introduced doesn't make sense in this context, an error will raise.\n",
    "    Parameters\n",
    "    ----------\n",
    "    Kb : int\n",
    "        B segment width (miliseconds).\n",
    "    Returns\n",
    "    -------\n",
    "    B_segment : array\n",
    "        B segment amplitude values (milivolts).\n",
    "    \n",
    "    References\n",
    "    ----------\n",
    "    .. [Model03] Pavol DOLINSKÝ, Imrich ANDRÁŠ, Linus MICHAELI, Domenico GRIMALDI,\n",
    "       \"MODEL FOR GENERATING SIMPLE SYNTHETIC ECG SIGNALS\",\n",
    "       Acta Electrotechnica et Informatica, Vol. 18, No. 3, 2018, 3–8\n",
    "    \"\"\"\n",
    "    if Kb > 130:\n",
    "        raise Exception(\"Warning! Kb is out of boundaries.\")\n",
    "    else:\n",
    "        a = np.zeros(Kb * l)\n",
    "        B_segment = a.tolist()\n",
    "    return B_segment\n",
    "\n",
    "     \n"
   ]
  },
  {
   "cell_type": "code",
   "execution_count": 1,
   "metadata": {},
   "outputs": [],
   "source": [
    "def P(Ap, Kp):  \n",
    "    \"\"\"Generates the amplitude values of the P wave in the ECG signal.\n",
    "    \n",
    "    Follows the approach by Dolinský, Andráš, Michaeli and Grimaldi [Model03].\n",
    "    \n",
    "    If the parameters introduced don't make sense in this context, an error will raise.\n",
    "    Parameters\n",
    "    ----------\n",
    "    Ap : int\n",
    "        P wave amplitude (milivolts).\n",
    "    Kp : int\n",
    "        P wave width (miliseconds).\n",
    "    Returns\n",
    "    -------\n",
    "    P_wave : array\n",
    "        P wave amplitude values (milivolts).\n",
    "        \n",
    "    References\n",
    "    ----------\n",
    "    .. [Model03] Pavol DOLINSKÝ, Imrich ANDRÁŠ, Linus MICHAELI, Domenico GRIMALDI,\n",
    "       \"MODEL FOR GENERATING SIMPLE SYNTHETIC ECG SIGNALS\",\n",
    "       Acta Electrotechnica et Informatica, Vol. 18, No. 3, 2018, 3–8\n",
    "    \"\"\"\n",
    "    if Ap < -0.2 or Ap >0.5:\n",
    "        raise Exception(\"Warning! Ap is out of boundaries.\")\n",
    "    elif Kp < 10 or Kp > 100:\n",
    "        raise Exception(\"Warning! Kp is out of boundaries.\")\n",
    "    else:\n",
    "        k = np.arange(0, Kp, i)\n",
    "        a = -(Ap / 2.) * np.cos((2*np.pi*k+15)/Kp)+Ap/2.\n",
    "        P_wave = a.tolist()\n",
    "    return P_wave\n",
    "\n",
    "\n"
   ]
  },
  {
   "cell_type": "code",
   "execution_count": 1,
   "metadata": {},
   "outputs": [],
   "source": [
    "def Pq(Kpq):  \n",
    "    \"\"\"Generates the amplitude values of the PQ segment in the ECG signal.\n",
    "    \n",
    "    Follows the approach by Dolinský, Andráš, Michaeli and Grimaldi [Model03].\n",
    "    \n",
    "    If the parameters introduced don't make sense in this context, an error will raise.\n",
    "    Parameters\n",
    "    ----------\n",
    "    Kpq : int\n",
    "        PQ segment width (miliseconds).\n",
    "    Returns\n",
    "    -------\n",
    "    PQ_segment : array\n",
    "        PQ segment amplitude values (milivolts).\n",
    "    \n",
    "    References\n",
    "    ----------\n",
    "    .. [Model03] Pavol DOLINSKÝ, Imrich ANDRÁŠ, Linus MICHAELI, Domenico GRIMALDI,\n",
    "       \"MODEL FOR GENERATING SIMPLE SYNTHETIC ECG SIGNALS\",\n",
    "       Acta Electrotechnica et Informatica, Vol. 18, No. 3, 2018, 3–8\n",
    "    \"\"\"\n",
    "    if Kpq < 0 or Kpq > 60:\n",
    "        raise Exception(\"Warning! Kpq is out of boundaries.\")\n",
    "    else:\n",
    "        a = np.zeros(Kpq * l)\n",
    "        PQ_segment = a.tolist()\n",
    "    return PQ_segment\n",
    "\n",
    "\n"
   ]
  },
  {
   "cell_type": "code",
   "execution_count": 1,
   "metadata": {},
   "outputs": [],
   "source": [
    "def Q1(Aq, Kq1):  \n",
    "    \"\"\"Generates the amplitude values of the first 5/6 of the Q wave in the ECG signal.\n",
    "    \n",
    "    Follows the approach by Dolinský, Andráš, Michaeli and Grimaldi [Model03].\n",
    "    \n",
    "    If the parameters introduced don't make sense in this context, an error will raise.\n",
    "    Parameters\n",
    "    ----------\n",
    "    Aq : int\n",
    "        Q wave amplitude (milivolts).\n",
    "    Kq1 : int\n",
    "        First 5/6 of the Q wave width (miliseconds).\n",
    "    Returns\n",
    "    -------\n",
    "    Q1_wave : array\n",
    "        First 5/6 of the Q wave amplitude values (milivolts).\n",
    "        \n",
    "    References\n",
    "    ----------\n",
    "    .. [Model03] Pavol DOLINSKÝ, Imrich ANDRÁŠ, Linus MICHAELI, Domenico GRIMALDI,\n",
    "       \"MODEL FOR GENERATING SIMPLE SYNTHETIC ECG SIGNALS\",\n",
    "       Acta Electrotechnica et Informatica, Vol. 18, No. 3, 2018, 3–8\n",
    "    \"\"\"\n",
    "    if Aq < 0 or Aq > 0.5:\n",
    "        raise Exception(\"Warning! Aq is out of boundaries.\")\n",
    "    elif Kq1 < 0 or Kq1 > 70:\n",
    "        raise Exception(\"Warning! Kq1 is out of boundaries.\")\n",
    "    else:\n",
    "        k = np.arange(0, Kq1, i)\n",
    "        a = - Aq * (k / Kq1)\n",
    "        Q1_wave = a.tolist()\n",
    "    return Q1_wave\n",
    "\n",
    "\n"
   ]
  },
  {
   "cell_type": "code",
   "execution_count": 1,
   "metadata": {},
   "outputs": [],
   "source": [
    "def Q2(Aq, Kq2): \n",
    "    \"\"\"Generates the amplitude values of the last 1/6 of the Q wave in the ECG signal.\n",
    "    \n",
    "    Follows the approach by Dolinský, Andráš, Michaeli and Grimaldi [Model03].\n",
    "    \n",
    "    If the parameters introduced don't make sense in this context, an error will raise.\n",
    "    Parameters\n",
    "    ----------\n",
    "    Aq : int\n",
    "        Q wave amplitude (milivolts).\n",
    "    Kq2 : int\n",
    "        Last 1/6 of the Q wave width (miliseconds).\n",
    "    Returns\n",
    "    -------\n",
    "    Q2_wave : array\n",
    "        Last 1/6 of the Q wave amplitude values (milivolts).\n",
    "    \n",
    "    References\n",
    "    ----------\n",
    "    .. [Model03] Pavol DOLINSKÝ, Imrich ANDRÁŠ, Linus MICHAELI, Domenico GRIMALDI,\n",
    "       \"MODEL FOR GENERATING SIMPLE SYNTHETIC ECG SIGNALS\",\n",
    "       Acta Electrotechnica et Informatica, Vol. 18, No. 3, 2018, 3–8\n",
    "    \"\"\"\n",
    "    if Aq < 0 or Aq > 0.5:\n",
    "        raise Exception(\"Warning! Aq is out of boundaries.\")\n",
    "    elif Kq2 < 0 or Kq2 > 50:\n",
    "        raise Exception(\"Warning! Kq2 is out of boundaries.\")\n",
    "    else:\n",
    "        k = np.arange(0, Kq2, i)\n",
    "        a = Aq * (k / Kq2) - Aq\n",
    "        Q2_wave = a.tolist()\n",
    "    return Q2_wave\n",
    "\n",
    "\n"
   ]
  },
  {
   "cell_type": "code",
   "execution_count": 1,
   "metadata": {},
   "outputs": [],
   "source": [
    "def R(Ar, Kr):   \n",
    "    \"\"\"Generates the amplitude values of the R wave in the ECG signal. \n",
    "    \n",
    "    Follows the approach by Dolinský, Andráš, Michaeli and Grimaldi [Model03].\n",
    "    \n",
    "    If the parameters introduced don't make sense in this context, an error will raise.\n",
    "    Parameters\n",
    "    ----------\n",
    "    Ar : int\n",
    "        R wave amplitude (milivolts).\n",
    "    Kr : int\n",
    "        R wave width (miliseconds).\n",
    "    Returns\n",
    "    -------\n",
    "    R_wave : array\n",
    "        R wave amplitude values (milivolts).\n",
    "    \n",
    "    References\n",
    "    ----------\n",
    "    .. [Model03] Pavol DOLINSKÝ, Imrich ANDRÁŠ, Linus MICHAELI, Domenico GRIMALDI,\n",
    "       \"MODEL FOR GENERATING SIMPLE SYNTHETIC ECG SIGNALS\",\n",
    "       Acta Electrotechnica et Informatica, Vol. 18, No. 3, 2018, 3–8\n",
    "    \"\"\"\n",
    "    if Ar < 0.5 or Ar > 2:\n",
    "        raise Exception(\"Warning! Ar is out of boundaries.\")\n",
    "    elif Kr < 10 or Kr > 150:\n",
    "        raise Exception(\"Warning! Kr is out of boundaries.\")\n",
    "    else:\n",
    "        k=np.arange(0, Kr, i)\n",
    "        a= Ar * np.sin((np.pi*k)/Kr)\n",
    "        R_wave = a.tolist()\n",
    "    return R_wave\n",
    "\n",
    "\n"
   ]
  },
  {
   "cell_type": "code",
   "execution_count": 1,
   "metadata": {},
   "outputs": [],
   "source": [
    "def S(As, Ks, Kcs, k=0):  \n",
    "    \"\"\"Generates the amplitude values of the S wave in the ECG signal. \n",
    "    \n",
    "    Follows the approach by Dolinský, Andráš, Michaeli and Grimaldi [Model03].\n",
    "    \n",
    "    If the parameters introduced don't make sense in this context, an error will raise.\n",
    "    Parameters\n",
    "    ----------\n",
    "    As : int\n",
    "        S wave amplitude (milivolts).\n",
    "    Ks : int\n",
    "        S wave width (miliseconds).\n",
    "    Kcs : int \n",
    "        Parameter which allows slight adjustment of S wave shape by cutting away a portion at the end.\n",
    "    k : int, optional\n",
    "    Returns\n",
    "    -------\n",
    "    S : array\n",
    "        If k = 0, S wave amplitude values (milivolts).\n",
    "    S : int\n",
    "        If k != 0, value obtained by using the S wave expression for the given k value.\n",
    "        \n",
    "    References\n",
    "    ----------\n",
    "    .. [Model03] Pavol DOLINSKÝ, Imrich ANDRÁŠ, Linus MICHAELI, Domenico GRIMALDI,\n",
    "       \"MODEL FOR GENERATING SIMPLE SYNTHETIC ECG SIGNALS\",\n",
    "       Acta Electrotechnica et Informatica, Vol. 18, No. 3, 2018, 3–8\n",
    "    \"\"\"\n",
    "    if As < 0 or As > 1:\n",
    "        raise Exception(\"Warning! As is out of boundaries.\")\n",
    "    elif Ks < 10 or Ks > 200:\n",
    "        raise Exception(\"Warning! Ks is out of boundaries.\")\n",
    "    elif Kcs < -5 or Kcs > 150:\n",
    "        raise Exception(\"Warning! Kcs is out of boundaries.\")\n",
    "    else:\n",
    "        if k==0:\n",
    "            k = np.arange(0, Ks-Kcs, i)\n",
    "            a = -As * 0.1 * k * (19.78 * np.pi)/Ks * np.exp(-2 * (((6 * np.pi)/Ks) * 0.1 * k)**2)\n",
    "            S = a.tolist()\n",
    "        else:\n",
    "            S = -As * 0.1 * k * (19.78 * np.pi)/Ks * np.exp(-2 * (((6 * np.pi)/Ks) * 0.1 * k)**2)\n",
    "    return S\n",
    "\n",
    "\n"
   ]
  },
  {
   "cell_type": "code",
   "execution_count": 1,
   "metadata": {},
   "outputs": [],
   "source": [
    "def St(As, Ks, Kcs, sm, Kst, k=0):     \n",
    "    \"\"\"Generates the amplitude values of the ST segment in the ECG signal. \n",
    "    \n",
    "    Follows the approach by Dolinský, Andráš, Michaeli and Grimaldi [Model03].\n",
    "    \n",
    "    If the parameters introduced don't make sense in this context, an error will raise.\n",
    "    Parameters\n",
    "    ----------\n",
    "    As : int\n",
    "        S wave amplitude (milivolts).\n",
    "    Ks : int\n",
    "        S wave width (miliseconds).\n",
    "    Kcs : int \n",
    "        Parameter which allows slight adjustment of S wave shape by cutting away a portion at the end.\n",
    "    sm : int\n",
    "        Slope parameter in the ST segment.\n",
    "    Kst : int\n",
    "        ST segment width (miliseconds).\n",
    "    k : int, optional\n",
    "    Returns\n",
    "    -------\n",
    "    ST : array\n",
    "        If k = 0, ST segment amplitude values (milivolts).\n",
    "    ST : int\n",
    "        If k != 0, value obtained by using the ST segment expression for the given k value.\n",
    "    \n",
    "    References\n",
    "    ----------\n",
    "    .. [Model03] Pavol DOLINSKÝ, Imrich ANDRÁŠ, Linus MICHAELI, Domenico GRIMALDI,\n",
    "       \"MODEL FOR GENERATING SIMPLE SYNTHETIC ECG SIGNALS\",\n",
    "       Acta Electrotechnica et Informatica, Vol. 18, No. 3, 2018, 3–8\n",
    "    \"\"\"\n",
    "    if sm < 1 or sm > 150:\n",
    "        raise Exception(\"Warning! sm is out of boundaries.\")\n",
    "    elif Kst < 0 or Kst > 110:\n",
    "        raise Exception(\"Warning! Kst is out of boundaries.\")\n",
    "    else:\n",
    "        if k == 0:\n",
    "            k = np.arange(0, Kst, i)\n",
    "            a = -S(As, Ks, Kcs, Ks-Kcs)* (k / sm) + S(As, Ks, Kcs, Ks-Kcs)\n",
    "            ST = a.tolist()\n",
    "        else:\n",
    "            ST = -S(As, Ks, Kcs, Ks-Kcs)* (k / sm) + S(As, Ks, Kcs, Ks-Kcs)\n",
    "    return ST\n",
    "\n",
    "     \n"
   ]
  },
  {
   "cell_type": "code",
   "execution_count": 1,
   "metadata": {},
   "outputs": [],
   "source": [
    "def T (As, Ks, Kcs, sm, Kst, At, Kt, k=0):  \n",
    "    \"\"\"Generates the amplitude values of the T wave in the ECG signal.\n",
    "    \n",
    "    Follows the approach by Dolinský, Andráš, Michaeli and Grimaldi [Model03].\n",
    "    \n",
    "    If the parameters introduced don't make sense in this context, an error will raise.\n",
    "    Parameters\n",
    "    ----------\n",
    "    As : int\n",
    "        S wave amplitude (milivolts).\n",
    "    Ks : int\n",
    "        S wave width (miliseconds).\n",
    "    Kcs : int \n",
    "        Parameter which allows slight adjustment of S wave shape by cutting away a portion at the end.\n",
    "    sm : int\n",
    "        Slope parameter in the ST segment.\n",
    "    Kst : int\n",
    "        ST segment width (miliseconds).\n",
    "    At : int\n",
    "        1/2 of the T wave amplitude (milivolts).\n",
    "    Kt : int\n",
    "        T wave width (miliseconds).\n",
    "    k : int, optional\n",
    "    Returns\n",
    "    -------\n",
    "    T : array\n",
    "        If k = 0, T wave amplitude values (milivolts).\n",
    "    T : int\n",
    "        If k != 0, value obtained by using the T wave expression for the given k value.\n",
    "        \n",
    "    References\n",
    "    ----------\n",
    "    .. [Model03] Pavol DOLINSKÝ, Imrich ANDRÁŠ, Linus MICHAELI, Domenico GRIMALDI,\n",
    "       \"MODEL FOR GENERATING SIMPLE SYNTHETIC ECG SIGNALS\",\n",
    "       Acta Electrotechnica et Informatica, Vol. 18, No. 3, 2018, 3–8\n",
    "    \"\"\"\n",
    "    if At < -0.5 or At > 1:\n",
    "        raise Exception(\"Warning! At is out of boundaries.\")\n",
    "    elif Kt < 50 or Kt > 300:\n",
    "       raise Exception(\"Warning! Kt is out of boundaries.\")\n",
    "    else:\n",
    "        if k==0:\n",
    "            k = np.arange(0, Kt, i)\n",
    "            a = - At * np.cos((1.48 * np.pi * k +15)/Kt) + At + St(As, Ks, Kcs, sm, Kst, Kst)\n",
    "            T = a.tolist()\n",
    "        else:\n",
    "            T = - At * np.cos((1.48 * np.pi * k +15)/Kt) + At + St(As, Ks, Kcs, sm, Kst, Kst)\n",
    "    return T\n",
    "\n",
    "\n"
   ]
  },
  {
   "cell_type": "code",
   "execution_count": 1,
   "metadata": {},
   "outputs": [],
   "source": [
    "def I (As, Ks, Kcs, sm, Kst, At, Kt, si, Ki): \n",
    "    \"\"\"Generates the amplitude values of the final isoelectric segment (I segment) in the ECG signal. \n",
    "    \n",
    "    Follows the approach by Dolinský, Andráš, Michaeli and Grimaldi [Model03].\n",
    "    \n",
    "    If the parameters introduced don't make sense in this context, an error will raise.\n",
    "    Parameters\n",
    "    ----------\n",
    "    As : int\n",
    "        S wave amplitude (milivolts).\n",
    "    Ks : int\n",
    "        S wave width (miliseconds).\n",
    "    Kcs : int \n",
    "        Parameter which allows slight adjustment of S wave shape by cutting away a portion at the end.\n",
    "    sm : int\n",
    "        Slope parameter in the ST segment.\n",
    "    Kst : int\n",
    "        ST segment width (miliseconds).\n",
    "    At : int\n",
    "        1/2 of the T wave amplitude (milivolts).\n",
    "    Kt : int\n",
    "        T wave width (miliseconds).\n",
    "    si : int\n",
    "        Parameter for setting the transition slope between T wave and isoelectric line.\n",
    "    Ki : int\n",
    "        I segment width (miliseconds).\n",
    "    Returns\n",
    "    -------\n",
    "    I_segment : array\n",
    "        I segment amplitude values (milivolts).\n",
    "    \n",
    "    References\n",
    "    ----------\n",
    "    .. [Model03] Pavol DOLINSKÝ, Imrich ANDRÁŠ, Linus MICHAELI, Domenico GRIMALDI,\n",
    "       \"MODEL FOR GENERATING SIMPLE SYNTHETIC ECG SIGNALS\",\n",
    "       Acta Electrotechnica et Informatica, Vol. 18, No. 3, 2018, 3–8\n",
    "    \"\"\"\n",
    "    if si < 0 or si > 50:\n",
    "        raise Exception(\"Warning! si is out of boundaries.\")\n",
    "    else:\n",
    "        k = np.arange(0, Ki, i)\n",
    "        a = T(As, Ks, Kcs, sm, Kst, At, Kt, Kt) * (si / (k+10))\n",
    "        I_segment = a.tolist()\n",
    "    return I_segment\n",
    "\n",
    "\n"
   ]
  },
  {
   "cell_type": "code",
   "execution_count": 1,
   "metadata": {},
   "outputs": [],
   "source": [
    "def ECG(Kb = 130, Ap = 0.2, Kp = 100, Kpq = 40, Aq = 0.1, Kq1 = 25, Kq2 = 5, Ar = 0.7, Kr = 40, As = 0.2, Ks = 30, Kcs = 5, sm = 96, Kst = 100, At = 0.15, Kt = 220, si = 2, Ki = 200):  #normal values by default \n",
    "    \"\"\"Concatenates the segments and waves to make an ECG signal. The default values are physiological. \n",
    "    \n",
    "    Follows the approach by Dolinský, Andráš, Michaeli and Grimaldi [Model03].\n",
    "    \n",
    "    If the parameters introduced aren't within physiological values (limits based on the website [ECGwaves]), a warning will raise.\n",
    "    Parameters\n",
    "    ----------\n",
    "    Kb : int\n",
    "        B segment width (miliseconds).\n",
    "    Ap : int\n",
    "        P wave amplitude (milivolts).\n",
    "    Kp : int\n",
    "        P wave width (miliseconds).\n",
    "    Kpq : int\n",
    "        PQ segment width (miliseconds).\n",
    "    Aq : int\n",
    "        Q wave amplitude (milivolts).\n",
    "    Kq1 : int\n",
    "        First 5/6 of the Q wave width (miliseconds).\n",
    "    Kq2 : int\n",
    "        Last 1/6 of the Q wave width (miliseconds).\n",
    "    Ar : int\n",
    "        R wave amplitude (milivolts).\n",
    "    Kr : int\n",
    "        R wave width (miliseconds).\n",
    "    As : int\n",
    "        S wave amplitude (milivolts).\n",
    "    Ks : int\n",
    "        S wave width (miliseconds).\n",
    "    Kcs : int \n",
    "        Parameter which allows slight adjustment of S wave shape by cutting away a portion at the end.\n",
    "    sm : int\n",
    "        Slope parameter in the ST segment.\n",
    "    Kst : int\n",
    "        ST segment width (miliseconds).\n",
    "    At : int\n",
    "        1/2 of the T wave amplitude (milivolts).\n",
    "    Kt : int\n",
    "        T wave width (miliseconds).\n",
    "    si : int\n",
    "        Parameter for setting the transition slope between T wave and isoelectric line.\n",
    "    Ki : int\n",
    "        I segment width (miliseconds).\n",
    "    Returns\n",
    "    -------\n",
    "    B_to_S : array\n",
    "        Amplitude values from the B segment to the S wave.\n",
    "    St_to_I : array\n",
    "        Amplitude values from the St segment to the I segment.\n",
    "    length : int\n",
    "        ECG wave total duration in miliseconds.\n",
    "        \n",
    "    References\n",
    "    ----------\n",
    "    .. [Model03] Pavol DOLINSKÝ, Imrich ANDRÁŠ, Linus MICHAELI, Domenico GRIMALDI,\n",
    "       \"MODEL FOR GENERATING SIMPLE SYNTHETIC ECG SIGNALS\",\n",
    "       Acta Electrotechnica et Informatica, Vol. 18, No. 3, 2018, 3–8\n",
    "    .. [ECGwaves] https://ecgwaves.com/\n",
    "    \"\"\"\n",
    "    if Kp > 120 and Ap >= 0.25:\n",
    "        warnings.warn(\"P wave isn't within physiological values.\")\n",
    "    \n",
    "    elif Kq1 + Kq2 > 30 or Aq > 0.25 * Ar :\n",
    "        warnings.warn(\"Q wave isn't within physiological values.\")\n",
    "    \n",
    "    elif 120 > Kp + Kpq or Kp + Kpq > 220: \n",
    "        warnings.warn(\"PR interval isn't within physiological limits.\")\n",
    "    \n",
    "    elif Kq1 + Kq2 + Kr + Ks - Kcs > 120:\n",
    "        warnings.warn(\"QRS complex duration isn't within physiological limits.\")\n",
    "        \n",
    "    elif Kq1 + Kq2 + Kr + Ks - Kcs + Kst + Kt > 450:\n",
    "        warnings.warn(\"QT segment duration isn't within physiological limits for men.\")\n",
    "    \n",
    "    elif Kq1 + Kq2 + Kr + Ks - Kcs + Kst + Kt > 470:\n",
    "        warnings.warn(\"QT segment duration isn't within physiological limits for women.\")\n",
    "    \n",
    "    B_to_S = B(Kb) + P(Ap, Kp) + Pq(Kpq) + Q1(Aq, Kq1) + Q2(Aq, Kq2) + R(Ar, Kr) + S(As, Ks, Kcs)\n",
    "    St_to_I = St(As, Ks, Kcs, sm, Kst) + T(As, Ks, Kcs, sm, Kst, At, Kt) + I(As, Ks, Kcs, sm, Kst, At, Kt, si, Ki)\n",
    "    length = Kb + Kp + Kpq + Kq1 + Kq2 + Kr + Ks - Kcs + Kst + Kt + Ki \n",
    "    \n",
    "    return B_to_S, St_to_I, length"
   ]
  },
  {
   "cell_type": "markdown",
   "metadata": {},
   "source": [
    "# III. Explore\n",
    "<br>\n",
    "<div class='h1'  style=\"width:100%; background:#00a0e4;color:#282828;font-family:'arial black'; text-align: center; padding: 7px 0; border-radius: 5px 50px;margin-top:-15px\" > </div>"
   ]
  },
  {
   "cell_type": "markdown",
   "metadata": {},
   "source": [
    "### <div style=\"color:#00a0e4\">  1. Final Notes (optional) </div>"
   ]
  },
  {
   "cell_type": "markdown",
   "metadata": {},
   "source": [
    "### <div style=\"color:#00a0e4\">  2. Quiz (optional)  </div>"
   ]
  },
  {
   "cell_type": "markdown",
   "metadata": {},
   "source": [
    "### <div style=\"color:#00a0e4\">  3. Further Reading  </div>"
   ]
  },
  {
   "cell_type": "markdown",
   "metadata": {},
   "source": [
    "<div style=\"height:100px; background:white;border-radius:10px;text-align:center\"> \n",
    "\n",
    "<a> <img src=\"https://github.com/PIA-Group/ScientIST-notebooks/blob/master/_Resources/Images/IT.png?raw=true\" alt=\"it\" style=\" bottom: 0; width:250px;\n",
    "    display: inline;\n",
    "    left: 250px;\n",
    "    position: absolute;\"/> </a>\n",
    "<img src=\"https://github.com/PIA-Group/ScientIST-notebooks/blob/master/_Resources/Images/IST.png?raw=true\"\n",
    "         alt=\"alternate text\" \n",
    "         style=\"position: relative;   width:250px; float: left;\n",
    "    position: absolute;\n",
    "    display: inline;\n",
    "    bottom: 0;\n",
    "    right: 100;\"/>\n",
    "</div> "
   ]
  },
  {
   "cell_type": "markdown",
   "metadata": {},
   "source": [
    "<div style=\"width: 100%; \">\n",
    "<div style=\"background:#00a0e4;color:white;font-family:'arial', monospace; text-align: center; padding: 50px 0; border-radius:10px; height:10px; width:100%; float:left \" >\n",
    "<span style=\"font-size:12px;position:relative; top:-25px\">  Please provide us your feedback <span style=\"font-size:14px;position:relative;COLOR:WHITE\"> <a href=\"https://forms.gle/C8TdLQUAS9r8BNJM8\">here</a>.</span></span> \n",
    "<br>\n",
    "<span style=\"font-size:17px;position:relative; top:-20px\">  Suggestions are welcome! </span> \n",
    "</div>"
   ]
  },
  {
   "cell_type": "markdown",
   "metadata": {},
   "source": [
    "```Contributors: Prof. ; ```"
   ]
  }
 ],
 "metadata": {
  "kernelspec": {
   "display_name": "Python 3",
   "language": "python",
   "name": "python3"
  },
  "language_info": {
   "codemirror_mode": {
    "name": "ipython",
    "version": 3
   },
   "file_extension": ".py",
   "mimetype": "text/x-python",
   "name": "python",
   "nbconvert_exporter": "python",
   "pygments_lexer": "ipython3",
   "version": "3.7.6"
  }
 },
 "nbformat": 4,
 "nbformat_minor": 4
}
