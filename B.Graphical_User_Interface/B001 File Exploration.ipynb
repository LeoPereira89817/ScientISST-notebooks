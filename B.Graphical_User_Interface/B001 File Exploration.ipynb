{
 "cells": [
  {
   "cell_type": "markdown",
   "metadata": {},
   "source": [
    "# <div  style=\"color:#303030;font-family:'arial blACK', sans-serif,monospace; text-align: center; padding: 50px 0; vertical-align:middle;\" > <img src=\"https://www.nicepng.com/png/full/204-2043038_white-lightbulb-icon-light-bulb-icon-white.png\" style=\" background:#00a0e4;border-radius:10px;width:150px;text-align:left; margin-left:10%\"  /> <span style=\"position:relative; bottom:70px; margin-left:5%\"> File Exploration </span> </div>"
   ]
  },
  {
   "cell_type": "markdown",
   "metadata": {},
   "source": [
    "## <span style=\"color:#00a0e4;\"> Keywords: </span>"
   ]
  },
  {
   "cell_type": "markdown",
   "metadata": {},
   "source": [
    "```Hierarchical Data Format (HDF)```, ```Data Loading```, ```Metadata```"
   ]
  },
  {
   "cell_type": "markdown",
   "metadata": {},
   "source": [
    "# I. Introduction\n",
    "<br>\n",
    "<div style=\"width:100%; background:#00a0e4;font-family:'arial black',monospace; text-align: center; padding: 7px 0; border-radius: 5px 50px;margin-top:-15px\" >  </div>\n"
   ]
  },
  {
   "cell_type": "markdown",
   "metadata": {},
   "source": [
    "## <div style=\"color:#00a0e4;\"> 1. Background </div>\n"
   ]
  },
  {
   "cell_type": "markdown",
   "metadata": {},
   "source": [
    "Plain text files (such as the ones we have worked with so far) are a straightforward and widely used way of storing and sharing data. Although there are several efforts towards standardization, in reality developers, vendors, practitioners\n",
    "and other stakeholders are often driven to create their own data representation\n",
    "formats, with well over 100+ documented formats targeting biosignals alone [1].\n",
    "In this lesson our experiments will be centered around the loading and handling\n",
    "of data stored in formats other than those we have previously used.\n",
    "\n",
    "<img src=\"https://i.ibb.co/Qbc53Rp/HDFView.png\" alt=\"HDFView\" border=\"0\">"
   ]
  },
  {
   "cell_type": "markdown",
   "metadata": {},
   "source": [
    "## <div style=\"color:#00a0e4;\"> 2. Objectives</div>\n",
    "* Understand certain nuances that appear when dealing with biosignal data\n",
    "recorded using tools other than the ones used to date\n",
    "* Deepen your knowledge on the tools for data loading in Python\n",
    "* Get familiar with binary data representation for storage of large data\n",
    "volumes, in particular the Hierarchical Data Format (HDF)"
   ]
  },
  {
   "cell_type": "markdown",
   "metadata": {},
   "source": [
    "## <div style=\"color:#00a0e4;\"> 3. Materials </div>\n",
    "* Anaconda Python 2.7\n",
    "* GEMuseXMLReader for Python\n",
    "* HDF5 for Python"
   ]
  },
  {
   "cell_type": "markdown",
   "metadata": {},
   "source": [
    "# II. Experimental\n",
    "<br>\n",
    "<div style=\"width:100%; background:#00a0e4;font-family:'arial black',monospace; text-align: center; padding: 7px 0; border-radius: 5px 50px;margin-top:-15px\" >  </div>\n"
   ]
  },
  {
   "cell_type": "markdown",
   "metadata": {},
   "source": [
    "## <div style=\"color:#00a0e4;\">  1. Embracing Diversity </div>\n",
    "\n",
    "Until now we have worked with tab-delimited plain text ASCII files, with a header\n",
    "automatically skipped when loading (due to the # prefix), followed by a sequence\n",
    "of lines. This approach belongs to the family of delimiter-separated formats,\n",
    "more widely known as Comma-Separated Values (CSV) file format, where the\n",
    "basic concept is to have each line corresponding to a data record containing one\n",
    "or more fields (e.g. sensor measurements), separated by a known delimitation\n",
    "character. Due to its simplicity, it is a common data exchange format and widely\n",
    "supported across end-user and professional software tools alike. However, there\n",
    "are few conventions or standards, reason for which a plethora of variants is\n",
    "usually found. In this experiment, we will learn how to adjust some of the file\n",
    "loading options in order to cope with variations of the CSV files content:\n",
    "\n",
    "    1. Download the file with sample ECG data available through the following link:\n",
    "<a> <center>  https://www.dropbox.com/s/gfnmrbj37oopce3/T06_29.csv?dl=0  </center></a>\n",
    "\n",
    "    2. Inspect the file using a spreadsheet or text editor software of your liking, and observe how it differs from the previous format you have been working with\n",
    "\n",
    "    3. Create a new (empty) Python script in the Spyder IDE\n",
    "\n",
    "    4. Implement a program that loads the CSV file (using the loadtxt(...) function) and plots the TIMESTAMP (time in seconds since the beginning of the acquisition) against the A2 column (digital codes produced by the ADC for a given sensor output)\n",
    "\n",
    "    5. Run your script and analize the output"
   ]
  },
  {
   "cell_type": "markdown",
   "metadata": {},
   "source": [
    "<div style=\"background:#00bfc2;font-family:'arial', monospace; text-align: center; padding: 10px 0; border-radius:10px; width:70%; margin:auto \" >\n",
    "  <span style=\"font-size:20px;position:relative;color:white; \">  Note </span> <br>\n",
    "  <div style=\"background:#9eddde;font-size:12px\"> \n",
    "   The first row of the file corresponds to the header formatted in a way\n",
    "that will not be automatically skipped, the delimiter is the ; character,\n",
    "and the number of columns is only the same from the third row onwards.\n",
    "You’ll see that the loadtxt(...) function has options to handle these\n",
    "variants, by reviewing the documentation found at:\n",
    "      \n",
    "<center> <a>https://docs.scipy.org/doc/numpy-1.14.0/reference/generated/numpy.loadtxt.html   </a></center>\n",
    "</div>"
   ]
  },
  {
   "cell_type": "markdown",
   "metadata": {},
   "source": [
    "## <div style=\"color:#00a0e4;\">  2. From Raw Measurements to Metadata </div>\n",
    "\n",
    "While the CSV format is quite handy to store tabular data, it can quickly become quite restrictive especially in cases where, in addition to the core biosignal data, contextual information is included (e.g. patient data, acquisition system\n",
    "specifications, experimental procedure information). To overcome these limitations, more recently the focus has shifted to more semantic approaches [1, 2, 3],\n",
    "which enable the integration of disparate and heterogeneous sources of medical information and facilitate their query and retrieval. One such approach is based on markup languages, using a set of rules for encoding documents in a\n",
    "format that is both human-readable and machine-readable, of which eXtensible\n",
    "Markup Language (XML) is arguably the most widely adopted. In this experiment we will analyse a real-world case of files recorded by a medical-grade Electrocardiograph (ECG):\n",
    "\n",
    "    1.  This repository contains the file '0000001A.XML' which presents some sample ECG data. It is located on the X.Example_Files folder.\n",
    "\n",
    "    2. Browse the file to inspect its content using an XML viewer, e.g., the following online tool:\n",
    "<center> <a> http://www.xmlviewer.org/</a> </center>\n",
    "\n",
    "    3. As you can see, different types of information (e.g. type of equipment, filters, interpretation, etc.) are stored on the file, together with the ECG waveforms for different leads, as a hierarchical set of human-readable groupings; use the Tree View option to see a better visual representation of the file content\n",
    "\n",
    "    4. Download the GEMuseXMLReader module from:\n",
    "<a><center> https://github.com/DFNOsorio/GEMuseXMLReader </center></a>\n",
    "\n",
    "    5. Extract the files and move the content to a working directory of your pref-\n",
    "    erence (alternatively you can add the containing folder to the PYTHONPATH manager on Spyder)\n",
    "\n",
    "    6. Download the xmltodict module from:\n",
    "<a><center>  https://github.com/martinblech/xmltodict </center></a>\n",
    "\n",
    "    7. Extract the files and move the content to a working directory of your preference (alternatively you can add the containing folder to the PYTHONPATH manager on Spyder)\n",
    "\n",
    "    8. Create a new (empty) Python script in the Spyder IDE\n",
    "    \n",
    "    9. Copy the code snippet shown in Figure 10.1 to your script\n",
    "\n",
    "    10. Run your script and analize the output; you should see a plot corresponding to the raw Lead I ECG data\n",
    "    \n",
    "    \n",
    "<br>\n",
    "    \n",
    "Example code to read ECG waveform data stored in the GE MUSE XML format:"
   ]
  },
  {
   "cell_type": "code",
   "execution_count": null,
   "metadata": {},
   "outputs": [],
   "source": [
    "import pylab as pl\n",
    "from GEMuseXMLReader import ∗\n",
    "\n",
    "GEMuseData = GEMuseXMLReader('0000001A.XML')\n",
    "\n",
    "pl.figure()\n",
    "pl.plot(GEMuseData.dataObject['I'])\n",
    "pl.show()"
   ]
  },
  {
   "cell_type": "markdown",
   "metadata": {},
   "source": [
    "Example code for direct access to the Lead I ECG data stored in the GE MUSE XML format (optional exercise):"
   ]
  },
  {
   "cell_type": "code",
   "execution_count": null,
   "metadata": {},
   "outputs": [],
   "source": [
    "GEMuseData.dataObject={}\n",
    "GEMuseData.dataObject['I']= array(GEMuseData.dic['sapphire']['dcarRecord']['patientInfo']['visit']['order']['ecgResting']['\n",
    "params']['ecg']['wav']['ecgWaveformMXG']['ecgWaveform'][0]['@V'].split()).astype('int')"
   ]
  },
  {
   "cell_type": "markdown",
   "metadata": {},
   "source": [
    "<div style=\"background:#00bfc2;font-family:'arial', monospace; text-align: center; padding: 10px 0; border-radius:10px; width:70%; margin:auto \" >\n",
    "  <span style=\"font-size:20px;position:relative;color:white; \">  Note </span> <br>\n",
    "  <div style=\"background:#9eddde;font-size:12px\"> \n",
    "If you are obtaining an AttributeError: GEMuseXMLReader instance\n",
    "has no attribute ’dataObject’ add the code shown in Figure 10.2\n",
    "immediately before the pl.figure() line.\n",
    "</div>"
   ]
  },
  {
   "cell_type": "markdown",
   "metadata": {},
   "source": [
    "<div style=\"background:#62d321;font-family:'arial', monospace; text-align: center; padding: 10px 0; border-radius:10px; width:70%; margin:auto \" >\n",
    "  <span style=\"font-size:20px;position:relative;color:white; \"> Explore </span> <br>\n",
    "  <div style=\"background:#c5e8b0;font-size:12px\"> \n",
    "    You can learn more about XML through the documentation available at:\n",
    "<center><a> https://www.w3schools.com/xml/xml_whatis.asp   </a></center>\n",
    "</div>"
   ]
  },
  {
   "cell_type": "markdown",
   "metadata": {},
   "source": [
    "###  **JSON** \n",
    "\n",
    "JavaScript Object Notation is often an advantageous format as well. It's a lightweight format for storing and transporting data, much used when data is sent from a server to a web page."
   ]
  },
  {
   "cell_type": "markdown",
   "metadata": {},
   "source": [
    "<div style=\"background:#62d321;font-family:'arial', monospace; text-align: center; padding: 10px 0; border-radius:10px; width:70%; margin:auto \" >\n",
    "  <span style=\"font-size:20px;position:relative;color:white; \"> Explore </span> <br>\n",
    "  <div style=\"background:#c5e8b0;font-size:12px\"> \n",
    "    You can learn more about JSON through the documentation available at:\n",
    "<center><a> https://www.w3schools.com/js/js_json_intro.asp  </a></center>\n",
    "</div>"
   ]
  },
  {
   "cell_type": "markdown",
   "metadata": {},
   "source": [
    "## <div style=\"color:#00a0e4;\">   3. Going Beyond Plain Text </div>\n",
    "\n",
    "Regardless of having a semantic-driven organization (e.g. like in XML) or not\n",
    "(e.g. like in CSV), plain text formats are prone to performance issues when large\n",
    "volumes of data are being dealt with. For example a measurement sampled by\n",
    "an ADC with 10-bit resolution (e.g. 1023) stored as human-readable plain text\n",
    "takes up at least 32 bits (i.e. 8-bit per digit). Although often sacrificing the semantics, to overcome this issue, several binary formats for biosignal data storage\n",
    "have been proposed, examples of which are the Extensible Biosignal File Format\n",
    "(EBS) [4], the European Data Format (EDF+) [5], the Medical Waveform Format Encoding Rules (MFER) [6], and the WaveForm DataBase (WFDB) [7].\n",
    "A compromise solution between performance and semantics appeared recently\n",
    "in the form of the Hierarchical Data Format (HDF), a self-describing format\n",
    "designed to store and organize large amounts of data [8]; the file structure has\n",
    "a hierarchical nature, based on two major types of objects: Datasets (multidimensional arrays of a homogeneous type), and Groups (container structures\n",
    "which can hold datasets and other groups). In this exercise we will get familiar\n",
    "with the HDF5 file format:\n",
    "\n",
    "    1. Download and install the HDFView visualizer:\n",
    "<a><center> https://support.hdfgroup.org/products/java/release/download.html  </center></a>\n",
    "\n",
    "    2. The file '000780B383D5.h5' provides sample data stored in HDF5. It's available in this repository on the 'X.Example_Files'.\n",
    "\n",
    "    3. Open the file with sample data on the HDFView software and explore its content\n",
    "\n",
    "    4. As you can see, the content is stored in a hierarchical way, with each node of the tree storing metadata and the leafs corresponding to either time series or other relevant data from the recording session\n",
    "\n",
    "    5. Create a new (empty) Python script in the Spyder IDE\n",
    "\n",
    "    6. Copy the code snippet shown in Figure 10.3 to your script; note how the HDF5 file content is loaded (in Python at least) as a dictionary-like structure\n",
    "\n",
    "    7. Run your script and analize the output; you should see a plot corresponding to raw ECG data (acquired from channel 2)\n",
    "    \n",
    "<br>\n",
    "\n",
    "Example code to read a ECG time series stored in the example HDF5, plotting in on a chart and displaying some of the metadata on the console:"
   ]
  },
  {
   "cell_type": "code",
   "execution_count": null,
   "metadata": {},
   "outputs": [],
   "source": [
    "import pylab as pl\n",
    "import h5py\n",
    "\n",
    "HDFData = h5py . F i l e ('000780B383D5.h5')\n",
    "root = HDFData ['00:07:80:B3:83:D5']\n",
    "print(root.attrs.items())\n",
    "data = root['raw']['channel2']\n",
    "\n",
    "pl.figure()\n",
    "pl.plot(data)\n",
    "pl.show()"
   ]
  },
  {
   "cell_type": "markdown",
   "metadata": {},
   "source": [
    "<div style=\"background:#62d321;font-family:'arial', monospace; text-align: center; padding: 10px 0; border-radius:10px; width:70%; margin:auto \" >\n",
    "  <span style=\"font-size:20px;position:relative;color:white; \"> Explore </span> <br>\n",
    "  <div style=\"background:#c5e8b0;font-size:12px\"> \n",
    "    More information about the HDF file format can be found at:\n",
    "\n",
    "<center><a> https://www.hdfgroup.org/solutions/hdf5/  </a></center>\n",
    "</div>"
   ]
  },
  {
   "cell_type": "markdown",
   "metadata": {},
   "source": [
    "# III. Explore\n",
    "<br>\n",
    "<div style=\"width:100%; background:#00a0e4;font-family:'arial black',monospace; text-align: center; padding: 7px 0; border-radius: 5px 50px;margin-top:-15px\" >  </div>\n"
   ]
  },
  {
   "cell_type": "markdown",
   "metadata": {},
   "source": [
    "###  1. Quiz  \n",
    "    1. Using the information available from the file used in Section II.1., what was the sampling rate used for data acquisition?\n",
    "    \n",
    "    2. Based on your current knowledge about the typical traces of the most commonly used biosignals, which column contains Electrodermal Activity (EDA) sensor data in the file used in Section 10.4? Explain how you reached your conclusion?\n",
    "    \n",
    "    3. Modify the script used in Section II.2. to plot, in a single figure, the data for all the waveforms stored on file arranged in a grid and duly labelled. Show the obtained result.\n",
    "    \n",
    "    4. Expand the script used in Section II.2. to determine and print to the console the average heart rate on the recording session with the support of the BioSPPy toolbox (e.g. based on Lead I data).\n",
    "    \n",
    "    5. Create a new program using the learnings from the exercise of Section II.3. to automatically traverse and print to the console the tree structure with the HDF5 file content"
   ]
  },
  {
   "cell_type": "markdown",
   "metadata": {},
   "source": [
    "## <div style=\"color:#00a0e4;\">  2. Further Reading  </div>\n",
    "\n",
    "[1] D. Brooks, P. Hunter, B. Smaill, and M. Titchener, “BiosignalML - a meta-\n",
    "model for biosignals,” in Eng. in Medicine and Biology Society,EMBC, 2011\n",
    "Annual International Conference of the IEEE, 2011, pp. 5670 –5673.\n",
    "\n",
    "[2] A. Kokkinaki, I. Chouvarda, and N. Maglaveras, “An ontology-based ap-\n",
    "proach facilitating unified querying of biosignals and patient records,” in\n",
    "Eng. in Medicine and Biology Society, 2008. EMBS 2008. 30th Annual In-\n",
    "ternational Conference of the IEEE, aug. 2008, pp. 2861 –2864.\n",
    "\n",
    "[3] D. Brooks, “Extensible biosignal metadata a model for physiological time-\n",
    "series data,” in Eng. in Medicine and Biology Society, 2009. EMBC 2009.\n",
    "Annual International Conference of the IEEE, 2009, pp. 3881 –3884.\n",
    "\n",
    "[4] G. Hellmann, M. Kuhn, M. Prosch, and M. Spreng, “Extensible\n",
    "biosignal (EBS) file format: simple method for eeg data exchange,”\n",
    "Electroencephalography and Clinical Neurophysiology, vol. 99, no. 5, pp. 426\n",
    "– 431, 1996. [Online]. Available: http://www.sciencedirect.com/science/article/pii/S0013469496965025\n",
    "\n",
    "[5] B. Kemp and J. Olivan, “European data format plus (EDF+), an edf\n",
    "alike standard format for the exchange of physiological data,” Clinical\n",
    "Neurophysiology, vol. 114, no. 9, pp. 1755 – 1761, 2003. [Online]. Available:\n",
    "http://www.sciencedirect.com/science/article/pii/S1388245703001238\n",
    "\n",
    "[6] MFER, “Medical waveform format encoding rules,”\n",
    "http://ecg.heart.or.jp/En/Index.htm, 2003. [Online]. Available: http://ecg.heart.or.jp/En/Index.htm\n",
    "\n",
    "[7] A. L. Goldberger, L. A. N. Amaral, L. Glass, J. M. Hausdorff, P. C. Ivanov,\n",
    "R. G. Mark, J. E. Mietus, G. B. Moody, C.-K. Peng, and H. E. Stanley,\n",
    "“PhysioBank, PhysioToolkit, and PhysioNet: Components of a new research\n",
    "resource for complex physiologic signals,” Circulation, vol. 101, no. 23, pp.\n",
    "e215–e220, 2000.\n",
    "\n",
    "[8] HDF, “The HDF group. Hierarchical data format version 5, 2000-2010.”\n",
    "www.hdfgroup.org/HDF5, 2010. [Online]. Available: www.hdfgroup.org/HDF5/"
   ]
  },
  {
   "cell_type": "markdown",
   "metadata": {},
   "source": [
    "<div style=\"height:115px; background:white;border-radius:10px;text-align:center\"> \n",
    "\n",
    "<img src=\"https://www.lx.it.pt/~asmc/predict/images/IT.png\" alt=\"it\" style=\"position: relative; margin-left: 10px; bottom:-55px;max-width:150px;height:auto;\"/> \n",
    "<img src=\"https://cqe.tecnico.ulisboa.pt/files/files/logos/IST_A_RGB_POS.png\"\n",
    "         alt=\"alternate text\" \n",
    "         style=\"position: relative; margin-left: 10px;  bottom:-50px; width:150px;height:auto;\"/>\n",
    "</div> "
   ]
  },
  {
   "cell_type": "markdown",
   "metadata": {},
   "source": [
    "<div style=\"width: 100%; \">\n",
    "<div style=\"background:#00a0e4;color:white;font-family:'arial', monospace; text-align: center; padding: 50px 0; border-radius:10px; height:10px; width:100%; float:left \" >\n",
    "<span style=\"font-size:12px;position:relative; top:-25px\">  Please provide us your feedback <span style=\"font-size:14px;position:relative;COLOR:WHITE\"> [here](https://forms.gle/C8TdLQUAS9r8BNJM8)</span>.</span> \n",
    "<br>\n",
    "<span style=\"font-size:17px;position:relative; top:-20px\">  Suggestions are welcome! </span> \n",
    "</div>"
   ]
  },
  {
   "cell_type": "markdown",
   "metadata": {},
   "source": [
    "```Contributors: Prof. Hugo Silva; Joana Pinto```"
   ]
  }
 ],
 "metadata": {
  "kernelspec": {
   "display_name": "Python 3",
   "language": "python",
   "name": "python3"
  },
  "language_info": {
   "codemirror_mode": {
    "name": "ipython",
    "version": 3
   },
   "file_extension": ".py",
   "mimetype": "text/x-python",
   "name": "python",
   "nbconvert_exporter": "python",
   "pygments_lexer": "ipython3",
   "version": "3.6.5"
  }
 },
 "nbformat": 4,
 "nbformat_minor": 4
}
